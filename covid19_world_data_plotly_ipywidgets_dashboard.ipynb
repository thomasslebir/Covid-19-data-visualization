{
 "cells": [
  {
   "cell_type": "code",
   "execution_count": 1,
   "metadata": {},
   "outputs": [],
   "source": [
    "import math\n",
    "import requests\n",
    "\n",
    "import ipywidgets as widgets\n",
    "from ipywidgets import interactive_output, HBox, Layout, interact_manual\n",
    "import numpy as np\n",
    "import pandas as pd\n",
    "import plotly.express as px\n",
    "import plotly.io as pio"
   ]
  },
  {
   "cell_type": "code",
   "execution_count": 2,
   "metadata": {},
   "outputs": [],
   "source": [
    "pio.renderers.default = \"iframe\""
   ]
  },
  {
   "cell_type": "code",
   "execution_count": 3,
   "metadata": {},
   "outputs": [],
   "source": [
    "def read_latest_ecdc_file(file_link=None, file_date=None, max_consecutive_dates=5, walk_back=True):\n",
    "    \"\"\"\n",
    "    Returns a DataFrame of the latest Covid-19 numbers by country as posted daily on the ECDC website.\n",
    "    \n",
    "    Args:\n",
    "        file_link (str): Download link for daily .xls file. If file_link is None, the function defaults to the last known location as a convenience.\n",
    "        file_date (Union[str, datetime.date, pd.Timestamp]): Starting date for file download tries. If file_date is None, the function defaults to today.\n",
    "        max_consecutive_dates (int): Number of days to walk back or forward if the current date's file is not available.\n",
    "        walk_back (bool): Way to increment dates for file matching in time. If walk_back is True, the function will decrement dates until max_consecutive_dates is reached or a valid link is found. \n",
    "        Otherwise, the function will increment dates.\n",
    "        \n",
    "    Returns:\n",
    "        pd.DataFrame\n",
    "    \"\"\"    \n",
    "    if file_link is None:\n",
    "        file_link = \"https://www.ecdc.europa.eu/sites/default/files/documents/COVID-19-geographic-disbtribution-worldwide-\"\n",
    "    \n",
    "    if file_date is None:\n",
    "        file_date = pd.Timestamp.today()\n",
    "    else:\n",
    "        file_date = pd.Timestamp(file_date)\n",
    "    \n",
    "    try:\n",
    "        latest_link = file_link + \"{:%Y-%m-%d}.xlsx\".format(file_date)\n",
    "        resp = requests.get(latest_link)\n",
    "    except:\n",
    "        print(\"Invalid URL.\")\n",
    "        return\n",
    "\n",
    "    while resp.status_code != 200 and max_consecutive_dates > 1:\n",
    "        print(\"File retrieval failed for {:%Y-%m-%d}\".format(file_date))\n",
    "        if walk_back:\n",
    "            file_date -= pd.Timedelta(\"1d\")\n",
    "        else:\n",
    "            file_date += pd.Timedelta(\"1d\")\n",
    "        max_consecutive_dates -= 1\n",
    "        latest_link = file_link + \"{:%Y-%m-%d}.xlsx\".format(file_date)\n",
    "        resp = requests.get(latest_link)\n",
    "    \n",
    "    if resp.status_code != 200:\n",
    "        print(\"File retrieval failed for {:%Y-%m-%d}.\".format(file_date))\n",
    "        print(\"Maximum number of consecutive dates reached. Please check if URL is correct or expand date window using max_consecutive_dates argument.\")\n",
    "        return\n",
    "    \n",
    "    print(\"Latest file date: {:%Y-%m-%d}.\".format(file_date))\n",
    "    \n",
    "    df = pd.read_excel(resp.content)\n",
    "    df.columns = [\"date_rep\", \"day\", \"month\", \"year\", \"cases\", \"deaths\", \"country\", \"alpha_2_code\", \"alpha_3_code\", \"population_2018\"]\n",
    "    \n",
    "    return df"
   ]
  },
  {
   "cell_type": "code",
   "execution_count": 4,
   "metadata": {},
   "outputs": [
    {
     "name": "stdout",
     "output_type": "stream",
     "text": [
      "Latest file date: 2020-04-09.\n"
     ]
    }
   ],
   "source": [
    "df_ecdc = read_latest_ecdc_file()"
   ]
  },
  {
   "cell_type": "code",
   "execution_count": 5,
   "metadata": {},
   "outputs": [],
   "source": [
    "def read_wiki_iso_country_codes(page_link=None, table_index=0, matching_length=True):\n",
    "    \"\"\"\n",
    "    Returns a DataFrame of country codes from Wikipedia.\n",
    "    \n",
    "    Args:\n",
    "        page_link (str): Link to the Wikipedia page of ISO country codes.\n",
    "        table_index (int): Index of the table within the HTML elements.\n",
    "        matching_length (bool): If True, only keeps ISO codes that respect string length requirements for both columns.\n",
    "        \n",
    "    Returns:\n",
    "        pd.DataFrame\n",
    "    \"\"\"\n",
    "    # Get HTML tables\n",
    "    if page_link is None:\n",
    "        tables = pd.read_html(r\"https://en.wikipedia.org/wiki/List_of_ISO_3166_country_codes\")\n",
    "    else:\n",
    "        tables = pd.read_html(page_link)\n",
    "    \n",
    "    # Load & format\n",
    "    df = tables[table_index]\n",
    "    df.columns = df.columns.droplevel()\n",
    "    df.columns = [c.split(\"[\")[0].strip().lower().replace(\" \", \"_\").replace(\"-\", \"_\") for c in df.columns]\n",
    "    df[\"alpha_2_code\"].iloc[0] = \"AF\"\n",
    "    \n",
    "    # Filter out countries that have alpha_3_code longer than 3 characters\n",
    "    if matching_length:\n",
    "        len_before = df.shape[0]\n",
    "        df = df[df[\"alpha_3_code\"].str.len() == 3].copy()\n",
    "        len_after = df.shape[0]\n",
    "        print(\"{:,.0f} entries dropped from 3-letter ISO codes.\".format(len_before - len_after))\n",
    "        \n",
    "    return df"
   ]
  },
  {
   "cell_type": "code",
   "execution_count": 6,
   "metadata": {},
   "outputs": [
    {
     "name": "stdout",
     "output_type": "stream",
     "text": [
      "31 entries dropped from 3-letter ISO codes.\n"
     ]
    }
   ],
   "source": [
    "df_wiki = read_wiki_iso_country_codes()"
   ]
  },
  {
   "cell_type": "code",
   "execution_count": 7,
   "metadata": {},
   "outputs": [],
   "source": [
    "def read_regions_continents_table(page_link=None, table_index=2):\n",
    "    \"\"\"\n",
    "    Returns a DataFrame of region and continent classification for each country.\n",
    "    \n",
    "    Args:\n",
    "        page_link (str): Link to the webpage.\n",
    "        table_index (int): Index of the table within the HTML elements.\n",
    "        \n",
    "    Returns:\n",
    "        pd.DataFrame\n",
    "    \"\"\"\n",
    "    # Get HMTL tables\n",
    "    if page_link is None:\n",
    "        tables = pd.read_html(r\"http://statisticstimes.com/geography/countries-by-continents.php\")\n",
    "    else:\n",
    "        tables = pd.read_html(page_link)\n",
    "    \n",
    "    # Load & format\n",
    "    df = tables[table_index]\n",
    "    df.drop(columns=[\"No\"], inplace=True)\n",
    "    df.columns = [c.strip().lower().replace(\" \", \"_\").replace(\"-\", \"_\") for c in df.columns]\n",
    "    \n",
    "    return df"
   ]
  },
  {
   "cell_type": "code",
   "execution_count": 8,
   "metadata": {},
   "outputs": [],
   "source": [
    "df_geo_agg = read_regions_continents_table()"
   ]
  },
  {
   "cell_type": "code",
   "execution_count": 9,
   "metadata": {},
   "outputs": [],
   "source": [
    "def create_full_dataset(df_ecdc=None, df_wiki=None, df_geo_agg=None):\n",
    "    \"\"\"\n",
    "    Returns a clean dataset composed by assembling ECDC data and Wikipedia ISO country data. Ensures all countries are included and span all dates for compatibility with Plotly. \n",
    "    Adds additional metrics per country: cumulative cases, cumulative deaths, mortality rate, % of population infected, % of population deaths.\n",
    "    \n",
    "    Args:\n",
    "        df_ecdc (pd.DataFrame): DataFrame from raw data published daily by the ECDC.\n",
    "        df_wiki (pd.DataFrame): DataFrame of table of country codes from Wikipedia.\n",
    "        df_geo_agg (pd.DataFrame): DataFrame of regional and continental classification for each country.\n",
    "        \n",
    "    Returns:\n",
    "        pd.DataFrame\n",
    "    \"\"\"\n",
    "    # Safety check\n",
    "    if any(x is None for x in [df_ecdc, df_wiki, df_geo_agg]):\n",
    "        print(\"One or more DataFrame is missing from the arguments, please check.\")\n",
    "        return\n",
    "    \n",
    "    # Format return DataFrame\n",
    "    df = df_ecdc.copy()\n",
    "    df.drop(columns=[\"day\", \"month\", \"year\"], inplace=True)\n",
    "    df[\"date_rep\"] = df[\"date_rep\"].astype(str)\n",
    "    df[\"cum_cases\"] = None\n",
    "    df[\"cum_deaths\"] = None\n",
    "    df.dropna(subset=[\"alpha_3_code\"], inplace=True)\n",
    "    \n",
    "    # Get list of all dates covered and missing countries\n",
    "    all_dates = pd.date_range(df[\"date_rep\"].min(), df[\"date_rep\"].max()).astype(str).tolist()\n",
    "    missing_countries = list(set(df_wiki[\"alpha_3_code\"]).difference(set(df_ecdc[\"alpha_3_code\"])))\n",
    "    frames = []\n",
    "    \n",
    "    # Fill in dates for countries included in the ECDC DataFrame\n",
    "    for alpha_3_code in df[\"alpha_3_code\"].unique():\n",
    "        try:\n",
    "            df_country = df[df[\"alpha_3_code\"] == alpha_3_code].copy()\n",
    "            # Additional dates\n",
    "            dates_to_add = list(set(all_dates).difference(set(df_country[\"date_rep\"])))\n",
    "            df_to_add = pd.DataFrame({\"date_rep\": dates_to_add})\n",
    "            df_to_add[\"cases\"] = 0\n",
    "            df_to_add[\"deaths\"] = 0\n",
    "            df_to_add[\"country\"] = df_country[\"country\"].iloc[0]\n",
    "            df_to_add[\"alpha_2_code\"] = df_country[\"alpha_2_code\"].iloc[0]\n",
    "            df_to_add[\"alpha_3_code\"] = alpha_3_code\n",
    "            df_to_add[\"population_2018\"] = df_country[\"population_2018\"].iloc[0]\n",
    "            # Concatenate both\n",
    "            df_temp = pd.concat([df_country, df_to_add], ignore_index=True)\n",
    "            df_temp.sort_values(by=\"date_rep\", inplace=True)\n",
    "            # Add cumulative counts\n",
    "            df_temp[\"cum_cases\"] = df_temp[\"cases\"].cumsum()\n",
    "            df_temp[\"cum_deaths\"] = df_temp[\"deaths\"].cumsum()\n",
    "            frames.append(df_temp)\n",
    "        except:\n",
    "            print(\"Issue encountered while adding dates to country code {}\".format(alpha_3_code))\n",
    "        \n",
    "    # Fill in missing countries\n",
    "    for alpha_3_code in missing_countries:\n",
    "        df_missing = pd.DataFrame({\"date_rep\": all_dates})\n",
    "        df_missing[\"cases\"] = 0\n",
    "        df_missing[\"deaths\"] = 0\n",
    "        df_missing[\"country\"] = df_wiki.loc[df_wiki[\"alpha_3_code\"] == alpha_3_code, \"country_name\"].iloc[0]\n",
    "        df_missing[\"alpha_2_code\"] = df_wiki.loc[df_wiki[\"alpha_3_code\"] == alpha_3_code, \"alpha_2_code\"].iloc[0]\n",
    "        df_missing[\"alpha_3_code\"] = alpha_3_code\n",
    "        df_missing[\"population_2018\"] = np.NaN\n",
    "        df_missing[\"cum_cases\"] = 0\n",
    "        df_missing[\"cum_deaths\"] = 0\n",
    "        frames.append(df_missing)\n",
    "    \n",
    "    # Create full DataFrame and order by date\n",
    "    df = pd.concat(frames, ignore_index=True)\n",
    "    df.sort_values(by=[\"country\", \"date_rep\"], inplace=True)\n",
    "    # Add indicators\n",
    "    df[\"mortality_rate\"] = (df[\"cum_deaths\"] / df[\"cum_cases\"]).fillna(0)\n",
    "    df[\"fraction_infected\"] = df[\"cum_cases\"] / df[\"population_2018\"]\n",
    "    df[\"fraction_deaths\"] = df[\"cum_deaths\"] / df[\"population_2018\"]\n",
    "    df[\"infections_growth_rate\"] = df[\"cum_cases\"].pct_change()\n",
    "    df.loc[df[\"date_rep\"] == df[\"date_rep\"].min(), \"infections_growth_rate\"] = np.NaN\n",
    "    df.loc[df[\"infections_growth_rate\"] == math.inf, \"infections_growth_rate\"] = 1\n",
    "    df[\"deaths_growth_rate\"] = df[\"cum_deaths\"].pct_change()\n",
    "    df.loc[df[\"date_rep\"] == df[\"date_rep\"].min(), \"deaths_growth_rate\"] = np.NaN\n",
    "    df.loc[df[\"deaths_growth_rate\"] == math.inf, \"deaths_growth_rate\"] = 1\n",
    "    # Merge region and continent classification\n",
    "    df = df.merge(df_geo_agg[[\"iso_alpha3_code\", \"region_1\", \"region_2\", \"continent\"]], how=\"left\", left_on=\"alpha_3_code\", right_on=\"iso_alpha3_code\").drop(columns=[\"iso_alpha3_code\"])\n",
    "    # Clean\n",
    "    df.loc[df[\"country\"] == \"Kosovo\", \"continent\"] = \"Europe\"\n",
    "    df.loc[df[\"country\"] == \"Taiwan\", \"continent\"] = \"Asia\"\n",
    "    df.loc[df[\"country\"] == \"Bonaire\", \"continent\"] = \"South America\"\n",
    "    df[\"country\"] = df[\"country\"].str.replace(\"_\", \" \")\n",
    "    \n",
    "    return df"
   ]
  },
  {
   "cell_type": "code",
   "execution_count": 10,
   "metadata": {},
   "outputs": [],
   "source": [
    "df_clean = create_full_dataset(df_ecdc, df_wiki, df_geo_agg)"
   ]
  },
  {
   "cell_type": "code",
   "execution_count": 11,
   "metadata": {},
   "outputs": [],
   "source": [
    "def generate_animated_map(df=df_clean.copy(), scope=\"world\", metric=\"cum_cases\", chart_type=\"choropleth\", fit_dates=True):\n",
    "    \"\"\"\n",
    "    Generates an animated map from ECDC Covid-19 country-level data.\n",
    "    \n",
    "    Args:\n",
    "        df (pd.DataFrame): data to be visualized.\n",
    "        scope (str): geographical scope of the map. Can be one of 'world', 'europe', 'asia', 'africa', 'north america', 'south america'. Defaults to 'world'.\n",
    "        metric (str): metric to plot. Can be one of 'cases', 'deaths', 'cum_cases', 'cum_deaths', 'mortality_rate', 'fraction_infected', 'fraction_deaths', 'infections_growth_rate', 'deaths_growth_rate'. Defaults to 'cum_cases'.\n",
    "        chart_type (str): type of map. Can be one of 'choropleth' or 'scatter_geo'.\n",
    "        fit_dates (bool): drop dates before data starts being non-zero for selected criteria.\n",
    "        \n",
    "    Returns:\n",
    "        None\n",
    "    \"\"\"\n",
    "    # Title and legend dict\n",
    "    title_legend_dict = {\"cases\": \"new cases\", \"deaths\": \"new deaths\", \"cum_cases\": \"cumulative cases\", \"cum_deaths\": \"cumulative deaths\", \"mortality_rate\": \"mortality rate\", \"fraction_infected\": \"% of pop. infected\",\n",
    "                        \"fraction_deaths\": \"% of pop. dead\", \"infections_growth_rate\": \"infections growth rate\", \"deaths_growth_rate\": \"deaths growth rate\"}\n",
    "        \n",
    "    # Filter df to match scope\n",
    "    if scope.lower() != \"world\":\n",
    "        df = df[df[\"continent\"] == scope.title()].copy()\n",
    "        \n",
    "    if scope not in [\"world\", \"europe\", \"asia\", \"africa\", \"north america\", \"south america\"]:\n",
    "        print(\"Value of scope not recognized ({}). Check function signature for supported values\".format(scope))\n",
    "        return\n",
    "    \n",
    "    # Fit dates to selection\n",
    "    if fit_dates:\n",
    "        min_date = df.loc[df[metric] > 0, \"date_rep\"].min()\n",
    "        df = df[df[\"date_rep\"] >= min_date].copy()\n",
    "    \n",
    "    # Generate figure\n",
    "    if chart_type == \"choropleth\":\n",
    "        fig = px.choropleth(df, locations=\"alpha_3_code\", color=metric, hover_name=\"country\", hover_data=[\"date_rep\", metric], range_color=[0, df[metric].max()],\n",
    "                           color_continuous_scale=px.colors.sequential.Reds, scope=scope, animation_frame=\"date_rep\")\n",
    "        fig.update_layout(coloraxis_colorbar=dict(title=title_legend_dict[metric].capitalize(), thicknessmode=\"pixels\", thickness=25, lenmode=\"pixels\", len=397, yanchor=\"middle\", y=.5, ticks=\"outside\"))\n",
    "    else:\n",
    "        fig = px.scatter_geo(df, locations=\"alpha_3_code\", hover_name=\"country\", size=metric, size_max=60, color_discrete_sequence=[px.colors.sequential.Reds[-2]], scope=scope, animation_frame=\"date_rep\")\n",
    "    \n",
    "    # Format figure\n",
    "    fig.update_geos(showcountries=True, countrycolor=\"black\")\n",
    "    fig.update_layout(margin=dict(r=0, t=0, l=0, b=0), width=900, height=700, title_text=\"<b>Covid-19 {} by country</b>\".format(title_legend_dict[metric]), title_y=.99, title_yanchor=\"top\", title_x=0.5, title_xanchor=\"center\")\n",
    "    fig.layout.template = \"plotly_dark\"\n",
    "    pio.show(fig)"
   ]
  },
  {
   "cell_type": "code",
   "execution_count": 12,
   "metadata": {},
   "outputs": [],
   "source": [
    "# Controls\n",
    "map_scope_list = sorted([(\"World\", \"world\")] + [(c, c.lower()) for c in df_clean[\"continent\"].unique() if c not in [\"Antarctica\", \"Oceania\"]])\n",
    "map_scope_dropdown = widgets.Dropdown(options=map_scope_list, value=\"world\", description=\"Scope\")\n",
    "\n",
    "map_title_legend_dict = {\"cases\": \"new cases\", \"deaths\": \"new deaths\", \"cum_cases\": \"cumulative cases\", \"cum_deaths\": \"cumulative deaths\", \"mortality_rate\": \"mortality rate\", \"fraction_infected\": \"% of pop. infected\",\n",
    "                        \"fraction_deaths\": \"% of pop. dead\", \"infections_growth_rate\": \"infections growth rate\", \"deaths_growth_rate\": \"deaths growth rate\"}\n",
    "map_metric_list = [(v.capitalize(), k) for k, v in map_title_legend_dict.items()]\n",
    "map_metric_dropdown = widgets.Dropdown(options=map_metric_list, value=\"cum_cases\", description=\"Metric\")\n",
    "\n",
    "map_chart_type_list = [(\"Heatmap\", \"choropleth\"), (\"Scatter map\", \"scatter_geo\")]\n",
    "map_chart_dropdown = widgets.Dropdown(options=map_chart_type_list, value=\"choropleth\", description=\"Chart type\")\n",
    "\n",
    "# Layout & display\n",
    "map_box_layout = Layout(justify_content=\"flex-start\", align_items=\"center\")\n",
    "map_ui = HBox([map_scope_dropdown, map_metric_dropdown, map_chart_dropdown], layout=map_box_layout)\n",
    "map_out = interactive_output(generate_animated_map, dict(scope=map_scope_dropdown, metric=map_metric_dropdown, chart_type=map_chart_dropdown))"
   ]
  },
  {
   "cell_type": "code",
   "execution_count": 13,
   "metadata": {},
   "outputs": [],
   "source": [
    "# Scaling utility functions\n",
    "def scale_upper_limit(x):\n",
    "    sign = np.sign(x)\n",
    "    x = abs(x)\n",
    "    if x == 0:\n",
    "        return 0\n",
    "    elif x >= 1:\n",
    "        power = int(math.log10(x))\n",
    "        scale = math.pow(10, power)\n",
    "        lower = math.floor(x / scale) * scale\n",
    "        for step in [1.25, 1.5, 1.75, 2]:\n",
    "            if x < lower * step:\n",
    "                return lower * step * sign\n",
    "    else:\n",
    "        factor = 1\n",
    "        while x < 1:\n",
    "            factor *= 10\n",
    "            x *= 10\n",
    "        return scale_upper_limit(x * sign) / factor\n",
    "    \n",
    "    \n",
    "def scale_lower_limit(x):\n",
    "    sign = np.sign(x)\n",
    "    x = abs(x)\n",
    "    if x == 0:\n",
    "        return 0\n",
    "    elif x >= 1:\n",
    "        power = int(math.log10(x))\n",
    "        scale = math.pow(10, power)\n",
    "        lower = math.floor(x / scale) * scale\n",
    "        for step in [1.75, 1.5, 1.25, 1]:\n",
    "            if x >= lower * step:\n",
    "                return lower * step * sign\n",
    "    else:\n",
    "        factor = 1\n",
    "        while x < 1:\n",
    "            factor *= 10\n",
    "            x *= 10\n",
    "        return scale_lower_limit(x * sign) / factor\n",
    "    \n",
    "    \n",
    "def generate_scale(values):\n",
    "    if all(x < 0 for x in values):\n",
    "        return scale_upper_limit(min(values)), scale_lower_limit(max(values))\n",
    "    else:\n",
    "        return scale_lower_limit(min(values)), scale_upper_limit(max(values))"
   ]
  },
  {
   "cell_type": "code",
   "execution_count": 14,
   "metadata": {},
   "outputs": [],
   "source": [
    "def generate_animated_bar_chart(df=df_clean.copy(), scope=\"world\", x=\"cum_cases\", y=\"default\", x_cutoff=None, top_n=None, fit_dates=True):\n",
    "    \"\"\"\n",
    "    Generates an animated bar chart from ECDC Covid-19 country-level data.\n",
    "    \n",
    "    Args:\n",
    "        df (pd.DataFrame): ECDC data to be visualized.\n",
    "        scope (str): geographical scope of the data. Can be one of 'world', 'europe', 'asia', 'africa', 'north america', 'south america'. Defaults to 'world'.\n",
    "        x (str): metric to plot. Can be one of 'cases', 'deaths', 'cum_cases', 'cum_deaths', 'mortality_rate', 'fraction_infected', 'fraction_deaths', 'infections_growth_rate', 'deaths_growth_rate'. Defaults to 'cum_cases'.\n",
    "        y (str): unit to group data. If scope is 'world', defaults to 'continent', otherwise defaults to 'country'.\n",
    "        x_cutoff (int): will not represent y groups that fall strictly below x_cutoff value. If x is cumulative, cutoff value applies to the last value by date. If not, cutoff value applies to the maximum within the date range.\n",
    "        top_n (int): only display top N y groups. Operates like x_cutoff.\n",
    "        fit_dates (bool): drop dates before data starts being non-zero for selected criteria.\n",
    "        \n",
    "    Returns:\n",
    "        None\n",
    "    \"\"\"\n",
    "    # Title and legend dict\n",
    "    title_legend_dict = {\"cases\": \"new cases\", \"deaths\": \"new deaths\", \"cum_cases\": \"cumulative cases\", \"cum_deaths\": \"cumulative deaths\", \"mortality_rate\": \"mortality rate\", \"fraction_infected\": \"% of pop. infected\",\n",
    "                        \"fraction_deaths\": \"% of pop. dead\", \"infections_growth_rate\": \"infections growth rate\", \"deaths_growth_rate\": \"deaths growth rate\"}\n",
    "    # Check\n",
    "    if scope.lower() not in [\"world\", \"europe\", \"asia\", \"africa\", \"north america\", \"south america\"]:\n",
    "        print(\"Value of scope not recognized ({}). Check function signature for supported values.\".format(scope))\n",
    "        return\n",
    "    \n",
    "    # Filter df to match scope\n",
    "    if scope.lower() != \"world\":\n",
    "        df = df[df[\"continent\"] == scope.title()].copy()\n",
    "        \n",
    "    if y == \"default\":\n",
    "        if scope == \"world\":\n",
    "            y = \"continent\"\n",
    "        else:\n",
    "            y = \"country\"\n",
    "    \n",
    "    # Metric cutoff/top n aggregates\n",
    "    if \"cum\" in x:\n",
    "        df_check = df.loc[df[\"date_rep\"] == df[\"date_rep\"].max(), [y, x]].groupby(y).sum()\n",
    "    else:\n",
    "        df_check = df[[y, x]].groupby(y).agg(max)\n",
    "            \n",
    "    if x_cutoff is not None:\n",
    "        y_to_remove = df_check.loc[df_check[x] < x_cutoff].index\n",
    "        df = df[~df[y].isin(y_to_remove)].copy()\n",
    "        \n",
    "    if top_n is not None:\n",
    "        if len(df_check.index) > top_n:\n",
    "            y_to_keep = df_check.nlargest(top_n, x).index\n",
    "            df = df[df[y].isin(y_to_keep)].copy()\n",
    "    \n",
    "    # Fit dates to selection\n",
    "    if fit_dates:\n",
    "        min_date = df.loc[df[x] > 0, \"date_rep\"].min()\n",
    "        df = df[df[\"date_rep\"] >= min_date].copy()\n",
    "    \n",
    "    # Formatting args\n",
    "    max_val = df_check.max()[x]\n",
    "    graph_scale = [0, scale_upper_limit(max_val)]\n",
    "    graph_height = 80 * len(df[y].unique())\n",
    "    \n",
    "    # Generate & layout figure\n",
    "    fig = px.bar(df, x=x, y=y, color=y, orientation=\"h\", hover_name=y, hover_data=[\"date_rep\", \"country\", y, x], animation_frame=\"date_rep\", range_x=graph_scale, labels={x: \"\", y: \"\"}, color_discrete_sequence=px.colors.cyclical.Twilight)\n",
    "    fig.update_layout(width=1800, height=graph_height, title_text=\"<b>Covid-19 {} by {}</b>\".format(title_legend_dict[x], y), title_y=.99, title_yanchor=\"top\", title_x=0.5, title_xanchor=\"center\")\n",
    "    fig.layout.template = \"plotly_dark\"\n",
    "    pio.show(fig)"
   ]
  },
  {
   "cell_type": "code",
   "execution_count": 15,
   "metadata": {},
   "outputs": [],
   "source": [
    "# Controls definition\n",
    "scope_list = sorted([(\"World\", \"world\")] + [(c, c.lower()) for c in df_clean[\"continent\"].unique() if c not in [\"Antarctica\", \"Oceania\"]])\n",
    "bar_scope_dropdown = widgets.Dropdown(options=scope_list, value=\"world\", description=\"Scope\")\n",
    "\n",
    "title_legend_dict = {\"cases\": \"new cases\", \"deaths\": \"new deaths\", \"cum_cases\": \"cumulative cases\", \"cum_deaths\": \"cumulative deaths\", \"mortality_rate\": \"mortality rate\", \"fraction_infected\": \"% of pop. infected\",\n",
    "                        \"fraction_deaths\": \"% of pop. dead\", \"infections_growth_rate\": \"infections growth rate\", \"deaths_growth_rate\": \"deaths growth rate\"}\n",
    "metric_list = [(v.capitalize(), k) for k, v in title_legend_dict.items()]\n",
    "bar_metric_dropdown = widgets.Dropdown(options=metric_list, value=\"cum_cases\", description=\"Metric\")\n",
    "\n",
    "bar_cutoff_text = widgets.FloatText(value=0, description=\"Metric cutoff\", disabled=False)\n",
    "bar_top_n_text = widgets.IntText(value=10, description=\"Show top\", disabled=False)\n",
    "\n",
    "# Reset cutoff to 0 & top_n to 10 when dropdowns change\n",
    "def dropdown_value_change(change):\n",
    "    bar_cutoff_text.value = 0\n",
    "    bar_top_n_text.value=10\n",
    "    \n",
    "bar_scope_dropdown.observe(dropdown_value_change, names=\"value\")\n",
    "bar_metric_dropdown.observe(dropdown_value_change, names=\"value\")\n",
    "\n",
    "# Layout & display\n",
    "bar_box_layout = Layout(justify_content=\"flex-start\", align_items=\"center\")\n",
    "bar_ui = HBox([bar_scope_dropdown, bar_metric_dropdown, bar_cutoff_text, bar_top_n_text], layout=bar_box_layout)\n",
    "bar_out = interactive_output(generate_animated_bar_chart, dict(scope=bar_scope_dropdown, x=bar_metric_dropdown, x_cutoff=bar_cutoff_text, top_n=bar_top_n_text))"
   ]
  },
  {
   "cell_type": "code",
   "execution_count": 16,
   "metadata": {},
   "outputs": [],
   "source": [
    "def generate_animated_scatter_plot(df=df_clean.copy(), x=\"cum_cases\", y=\"mortality_rate\", size=\"population_2018\", facet_col=\"continent\"):\n",
    "    \"\"\"\n",
    "    \n",
    "    \"\"\"\n",
    "    # Title and legend dict\n",
    "    title_legend_dict = {\"cases\": \"new cases\", \"deaths\": \"new deaths\", \"cum_cases\": \"cumulative cases\", \"cum_deaths\": \"cumulative deaths\", \"mortality_rate\": \"mortality rate\", \"fraction_infected\": \"% of pop. infected\",\n",
    "                        \"fraction_deaths\": \"% of pop. dead\", \"infections_growth_rate\": \"infections growth rate\", \"deaths_growth_rate\": \"deaths growth rate\"}\n",
    "    \n",
    "    # Filter dataset for missing metrics\n",
    "    if df[size].isnull().sum() > 0:\n",
    "        df = df[df[size].notnull()].copy()\n",
    "    \n",
    "    x_upper, y_upper = scale_upper_limit(df[x].max()), scale_upper_limit(df[y].max())\n",
    "    x_scale = [0 - 0.1 * x_upper, x_upper]\n",
    "    y_scale = [0 - 0.1 * y_upper, y_upper]\n",
    "    \n",
    "    fig = px.scatter(df, x=x, y=y, range_x=x_scale, range_y=y_scale, size=size, facet_col=facet_col, hover_name=\"country\", hover_data=[\"continent\", x, y], size_max=60, animation_frame=\"date_rep\", \n",
    "                     animation_group=\"alpha_3_code\", labels={x: title_legend_dict[x].capitalize(), y: title_legend_dict[y].capitalize()}, color=\"continent\")\n",
    "    fig.update_layout(width=2000, height=600, title_text=\"<b>Covid-19 {} vs {} by continent & country</b>\".format(title_legend_dict[x], title_legend_dict[y]), title_y=.99, title_yanchor=\"top\", title_x=0.5, title_xanchor=\"center\")\n",
    "    fig.layout.template = \"plotly_dark\"\n",
    "    pio.show(fig)"
   ]
  },
  {
   "cell_type": "code",
   "execution_count": 17,
   "metadata": {},
   "outputs": [],
   "source": [
    "# Controls\n",
    "title_legend_dict = {\"cases\": \"new cases\", \"deaths\": \"new deaths\", \"cum_cases\": \"cumulative cases\", \"cum_deaths\": \"cumulative deaths\", \"mortality_rate\": \"mortality rate\", \"fraction_infected\": \"% of pop. infected\",\n",
    "                        \"fraction_deaths\": \"% of pop. dead\", \"infections_growth_rate\": \"infections growth rate\", \"deaths_growth_rate\": \"deaths growth rate\"}\n",
    "x_list = [(v.capitalize(), k) for k, v in title_legend_dict.items()]\n",
    "scatter_x_dropdown = widgets.Dropdown(options=x_list, value=\"cum_cases\", description=\"x\")\n",
    "scatter_y_dropdown = widgets.Dropdown(options=x_list, value=\"mortality_rate\", description=\"y\")\n",
    "size_list = x_list + [(\"2018 population\", \"population_2018\")]\n",
    "scatter_size_dropdown = widgets.Dropdown(options=size_list, value=\"population_2018\", description=\"Marker size\")\n",
    "\n",
    "# Layout & display\n",
    "scatter_box_layout = Layout(justify_content=\"flex-start\", align_items=\"center\")\n",
    "scatter_ui = HBox([scatter_x_dropdown, scatter_y_dropdown, scatter_size_dropdown], layout=scatter_box_layout)\n",
    "scatter_out = interactive_output(generate_animated_scatter_plot, dict(x=scatter_x_dropdown, y=scatter_y_dropdown, size=scatter_size_dropdown))"
   ]
  },
  {
   "cell_type": "code",
   "execution_count": 18,
   "metadata": {},
   "outputs": [
    {
     "data": {
      "application/vnd.jupyter.widget-view+json": {
       "model_id": "8d1e4c7a27aa4b6990a3be417b5aafa9",
       "version_major": 2,
       "version_minor": 0
      },
      "text/plain": [
       "HBox(children=(Dropdown(description='Scope', index=5, options=(('Africa', 'africa'), ('Asia', 'asia'), ('Europ…"
      ]
     },
     "metadata": {},
     "output_type": "display_data"
    },
    {
     "data": {
      "application/vnd.jupyter.widget-view+json": {
       "model_id": "414d571fb62c45d1b3d7baea9cc02cec",
       "version_major": 2,
       "version_minor": 0
      },
      "text/plain": [
       "Output()"
      ]
     },
     "metadata": {},
     "output_type": "display_data"
    },
    {
     "data": {
      "application/vnd.jupyter.widget-view+json": {
       "model_id": "ab4fdc6d4bd0413c8469797d18404ca2",
       "version_major": 2,
       "version_minor": 0
      },
      "text/plain": [
       "HBox(children=(Dropdown(description='Scope', index=5, options=(('Africa', 'africa'), ('Asia', 'asia'), ('Europ…"
      ]
     },
     "metadata": {},
     "output_type": "display_data"
    },
    {
     "data": {
      "application/vnd.jupyter.widget-view+json": {
       "model_id": "03042f7221f04cf0becc3fb99811221d",
       "version_major": 2,
       "version_minor": 0
      },
      "text/plain": [
       "Output()"
      ]
     },
     "metadata": {},
     "output_type": "display_data"
    },
    {
     "data": {
      "application/vnd.jupyter.widget-view+json": {
       "model_id": "3d355c607f6d4905801261c98d97d4b9",
       "version_major": 2,
       "version_minor": 0
      },
      "text/plain": [
       "HBox(children=(Dropdown(description='x', index=2, options=(('New cases', 'cases'), ('New deaths', 'deaths'), (…"
      ]
     },
     "metadata": {},
     "output_type": "display_data"
    },
    {
     "data": {
      "application/vnd.jupyter.widget-view+json": {
       "model_id": "74b9d42ecab14945a3aefe255c76948f",
       "version_major": 2,
       "version_minor": 0
      },
      "text/plain": [
       "Output()"
      ]
     },
     "metadata": {},
     "output_type": "display_data"
    }
   ],
   "source": [
    "display(map_ui, map_out, bar_ui, bar_out, scatter_ui, scatter_out)"
   ]
  },
  {
   "cell_type": "code",
   "execution_count": 27,
   "metadata": {},
   "outputs": [
    {
     "data": {
      "text/plain": [
       "\u001b[0;31mSignature:\u001b[0m \u001b[0mscatter_out\u001b[0m\u001b[0;34m.\u001b[0m\u001b[0mobserve\u001b[0m\u001b[0;34m(\u001b[0m\u001b[0mhandler\u001b[0m\u001b[0;34m,\u001b[0m \u001b[0mnames\u001b[0m\u001b[0;34m=\u001b[0m\u001b[0mtraitlets\u001b[0m\u001b[0;34m.\u001b[0m\u001b[0mAll\u001b[0m\u001b[0;34m,\u001b[0m \u001b[0mtype\u001b[0m\u001b[0;34m=\u001b[0m\u001b[0;34m'change'\u001b[0m\u001b[0;34m)\u001b[0m\u001b[0;34m\u001b[0m\u001b[0;34m\u001b[0m\u001b[0m\n",
       "\u001b[0;31mDocstring:\u001b[0m\n",
       "Setup a handler to be called when a trait changes.\n",
       "\n",
       "This is used to setup dynamic notifications of trait changes.\n",
       "\n",
       "Parameters\n",
       "----------\n",
       "handler : callable\n",
       "    A callable that is called when a trait changes. Its\n",
       "    signature should be ``handler(change)``, where ``change`` is a\n",
       "    dictionary. The change dictionary at least holds a 'type' key.\n",
       "    * ``type``: the type of notification.\n",
       "    Other keys may be passed depending on the value of 'type'. In the\n",
       "    case where type is 'change', we also have the following keys:\n",
       "    * ``owner`` : the HasTraits instance\n",
       "    * ``old`` : the old value of the modified trait attribute\n",
       "    * ``new`` : the new value of the modified trait attribute\n",
       "    * ``name`` : the name of the modified trait attribute.\n",
       "names : list, str, All\n",
       "    If names is All, the handler will apply to all traits.  If a list\n",
       "    of str, handler will apply to all names in the list.  If a\n",
       "    str, the handler will apply just to that name.\n",
       "type : str, All (default: 'change')\n",
       "    The type of notification to filter by. If equal to All, then all\n",
       "    notifications are passed to the observe handler.\n",
       "\u001b[0;31mFile:\u001b[0m      ~/opt/anaconda3/envs/covid_viz_env/lib/python3.8/site-packages/traitlets/traitlets.py\n",
       "\u001b[0;31mType:\u001b[0m      method\n"
      ]
     },
     "metadata": {},
     "output_type": "display_data"
    }
   ],
   "source": [
    "scatter_out.observe?"
   ]
  },
  {
   "cell_type": "code",
   "execution_count": 22,
   "metadata": {},
   "outputs": [
    {
     "data": {
      "text/plain": [
       "\u001b[0;31mSignature:\u001b[0m \u001b[0mwidgets\u001b[0m\u001b[0;34m.\u001b[0m\u001b[0minteractive\u001b[0m\u001b[0;34m.\u001b[0m\u001b[0mupdate\u001b[0m\u001b[0;34m(\u001b[0m\u001b[0mself\u001b[0m\u001b[0;34m,\u001b[0m \u001b[0;34m*\u001b[0m\u001b[0margs\u001b[0m\u001b[0;34m)\u001b[0m\u001b[0;34m\u001b[0m\u001b[0;34m\u001b[0m\u001b[0m\n",
       "\u001b[0;31mDocstring:\u001b[0m\n",
       "Call the interact function and update the output widget with\n",
       "the result of the function call.\n",
       "\n",
       "Parameters\n",
       "----------\n",
       "*args : ignored\n",
       "    Required for this method to be used as traitlets callback.\n",
       "\u001b[0;31mFile:\u001b[0m      ~/opt/anaconda3/envs/covid_viz_env/lib/python3.8/site-packages/ipywidgets/widgets/interaction.py\n",
       "\u001b[0;31mType:\u001b[0m      function\n"
      ]
     },
     "metadata": {},
     "output_type": "display_data"
    }
   ],
   "source": [
    "widgets.interactive.update?"
   ]
  },
  {
   "cell_type": "code",
   "execution_count": null,
   "metadata": {},
   "outputs": [],
   "source": [
    "widgets.interactive_output."
   ]
  }
 ],
 "metadata": {
  "kernelspec": {
   "display_name": "Python 3",
   "language": "python",
   "name": "python3"
  },
  "language_info": {
   "codemirror_mode": {
    "name": "ipython",
    "version": 3
   },
   "file_extension": ".py",
   "mimetype": "text/x-python",
   "name": "python",
   "nbconvert_exporter": "python",
   "pygments_lexer": "ipython3",
   "version": "3.8.2"
  }
 },
 "nbformat": 4,
 "nbformat_minor": 4
}
