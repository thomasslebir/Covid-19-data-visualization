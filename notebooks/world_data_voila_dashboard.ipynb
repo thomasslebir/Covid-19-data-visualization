{
 "cells": [
  {
   "cell_type": "code",
   "execution_count": 1,
   "metadata": {},
   "outputs": [],
   "source": [
    "import ipywidgets as widgets\n",
    "from ipywidgets import interactive_output, interactive, fixed, HBox, VBox, Layout\n",
    "\n",
    "from covid_dashboard.utils.data_handler import CovidDataHandler\n",
    "from covid_dashboard.utils.chart_generator import CovidChartGenerator"
   ]
  },
  {
   "cell_type": "code",
   "execution_count": 2,
   "metadata": {},
   "outputs": [],
   "source": [
    "cdh = CovidDataHandler()\n",
    "cdh.generate_country_level_dataset()\n",
    "df_clean = cdh.covid_country_data\n",
    "ccg = CovidChartGenerator(df_clean)"
   ]
  },
  {
   "cell_type": "code",
   "execution_count": 3,
   "metadata": {},
   "outputs": [
    {
     "data": {
      "application/vnd.jupyter.widget-view+json": {
       "model_id": "cc4ea0b3f2314959a36bf608d6c22ba4",
       "version_major": 2,
       "version_minor": 0
      },
      "text/plain": [
       "HBox(children=(Dropdown(description='Scope', index=5, options=(('Africa', 'africa'), ('Asia', 'asia'), ('Europ…"
      ]
     },
     "metadata": {},
     "output_type": "display_data"
    },
    {
     "data": {
      "application/vnd.jupyter.widget-view+json": {
       "model_id": "cf4d0f6c516b4d18a5dd88455afcca8c",
       "version_major": 2,
       "version_minor": 0
      },
      "text/plain": [
       "Output()"
      ]
     },
     "metadata": {},
     "output_type": "display_data"
    }
   ],
   "source": [
    "# Controls\n",
    "map_scope_list = sorted([(\"World\", \"world\")] + [(c, c.lower()) for c in df_clean[\"continent\"].unique() if c not in [\"Antarctica\", \"Oceania\"]])\n",
    "map_scope_dropdown = widgets.Dropdown(options=map_scope_list, value=\"world\", description=\"Scope\")\n",
    "\n",
    "map_title_legend_dict = {\"cases\": \"new cases\", \"deaths\": \"new deaths\", \"cum_cases\": \"cumulative cases\", \"cum_deaths\": \"cumulative deaths\", \"mortality_rate\": \"mortality rate\", \"fraction_infected\": \"% of pop. infected\",\n",
    "                        \"fraction_deaths\": \"% of pop. dead\", \"infections_growth_rate\": \"infections growth rate\", \"deaths_growth_rate\": \"deaths growth rate\"}\n",
    "map_metric_list = [(v.capitalize(), k) for k, v in map_title_legend_dict.items()]\n",
    "map_metric_dropdown = widgets.Dropdown(options=map_metric_list, value=\"cum_cases\", description=\"Metric\")\n",
    "\n",
    "map_chart_type_list = [(\"Heatmap\", \"choropleth\"), (\"Scatter map\", \"scatter_geo\")]\n",
    "map_chart_dropdown = widgets.Dropdown(options=map_chart_type_list, value=\"choropleth\", description=\"Chart type\")\n",
    "\n",
    "# Layout & display\n",
    "map_box_layout = Layout(justify_content=\"flex-start\", align_items=\"center\")\n",
    "map_ui = HBox([map_scope_dropdown, map_metric_dropdown, map_chart_dropdown], layout=map_box_layout)\n",
    "map_out = interactive_output(ccg.generate_animated_map, dict(scope=map_scope_dropdown, metric=map_metric_dropdown, chart_type=map_chart_dropdown))\n",
    "display(map_ui, map_out)"
   ]
  }
 ],
 "metadata": {
  "kernelspec": {
   "display_name": "Python 3.8.2 64-bit ('covid_viz_env': conda)",
   "language": "python",
   "name": "python38264bitcovidvizenvconda8161c9317c4541db97624dae488151e8"
  },
  "language_info": {
   "codemirror_mode": {
    "name": "ipython",
    "version": 3
   },
   "file_extension": ".py",
   "mimetype": "text/x-python",
   "name": "python",
   "nbconvert_exporter": "python",
   "pygments_lexer": "ipython3",
   "version": "3.8.2"
  }
 },
 "nbformat": 4,
 "nbformat_minor": 4
}
