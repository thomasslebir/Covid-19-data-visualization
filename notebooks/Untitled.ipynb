{
 "cells": [
  {
   "cell_type": "code",
   "execution_count": 6,
   "metadata": {},
   "outputs": [],
   "source": [
    "using CSV\n",
    "using DataFrames\n",
    "using HTTP"
   ]
  },
  {
   "cell_type": "code",
   "execution_count": 11,
   "metadata": {},
   "outputs": [
    {
     "data": {
      "text/html": [
       "<table class=\"data-frame\"><thead><tr><th></th><th>date</th><th>county</th><th>state</th><th>fips</th><th>cases</th><th>deaths</th></tr><tr><th></th><th>Dates…</th><th>String</th><th>String</th><th>Int64⍰</th><th>Int64</th><th>Int64</th></tr></thead><tbody><p>147,245 rows × 6 columns</p><tr><th>1</th><td>2020-01-21</td><td>Snohomish</td><td>Washington</td><td>53061</td><td>1</td><td>0</td></tr><tr><th>2</th><td>2020-01-22</td><td>Snohomish</td><td>Washington</td><td>53061</td><td>1</td><td>0</td></tr><tr><th>3</th><td>2020-01-23</td><td>Snohomish</td><td>Washington</td><td>53061</td><td>1</td><td>0</td></tr><tr><th>4</th><td>2020-01-24</td><td>Cook</td><td>Illinois</td><td>17031</td><td>1</td><td>0</td></tr><tr><th>5</th><td>2020-01-24</td><td>Snohomish</td><td>Washington</td><td>53061</td><td>1</td><td>0</td></tr><tr><th>6</th><td>2020-01-25</td><td>Orange</td><td>California</td><td>6059</td><td>1</td><td>0</td></tr><tr><th>7</th><td>2020-01-25</td><td>Cook</td><td>Illinois</td><td>17031</td><td>1</td><td>0</td></tr><tr><th>8</th><td>2020-01-25</td><td>Snohomish</td><td>Washington</td><td>53061</td><td>1</td><td>0</td></tr><tr><th>9</th><td>2020-01-26</td><td>Maricopa</td><td>Arizona</td><td>4013</td><td>1</td><td>0</td></tr><tr><th>10</th><td>2020-01-26</td><td>Los Angeles</td><td>California</td><td>6037</td><td>1</td><td>0</td></tr><tr><th>11</th><td>2020-01-26</td><td>Orange</td><td>California</td><td>6059</td><td>1</td><td>0</td></tr><tr><th>12</th><td>2020-01-26</td><td>Cook</td><td>Illinois</td><td>17031</td><td>1</td><td>0</td></tr><tr><th>13</th><td>2020-01-26</td><td>Snohomish</td><td>Washington</td><td>53061</td><td>1</td><td>0</td></tr><tr><th>14</th><td>2020-01-27</td><td>Maricopa</td><td>Arizona</td><td>4013</td><td>1</td><td>0</td></tr><tr><th>15</th><td>2020-01-27</td><td>Los Angeles</td><td>California</td><td>6037</td><td>1</td><td>0</td></tr><tr><th>16</th><td>2020-01-27</td><td>Orange</td><td>California</td><td>6059</td><td>1</td><td>0</td></tr><tr><th>17</th><td>2020-01-27</td><td>Cook</td><td>Illinois</td><td>17031</td><td>1</td><td>0</td></tr><tr><th>18</th><td>2020-01-27</td><td>Snohomish</td><td>Washington</td><td>53061</td><td>1</td><td>0</td></tr><tr><th>19</th><td>2020-01-28</td><td>Maricopa</td><td>Arizona</td><td>4013</td><td>1</td><td>0</td></tr><tr><th>20</th><td>2020-01-28</td><td>Los Angeles</td><td>California</td><td>6037</td><td>1</td><td>0</td></tr><tr><th>21</th><td>2020-01-28</td><td>Orange</td><td>California</td><td>6059</td><td>1</td><td>0</td></tr><tr><th>22</th><td>2020-01-28</td><td>Cook</td><td>Illinois</td><td>17031</td><td>1</td><td>0</td></tr><tr><th>23</th><td>2020-01-28</td><td>Snohomish</td><td>Washington</td><td>53061</td><td>1</td><td>0</td></tr><tr><th>24</th><td>2020-01-29</td><td>Maricopa</td><td>Arizona</td><td>4013</td><td>1</td><td>0</td></tr><tr><th>25</th><td>2020-01-29</td><td>Los Angeles</td><td>California</td><td>6037</td><td>1</td><td>0</td></tr><tr><th>26</th><td>2020-01-29</td><td>Orange</td><td>California</td><td>6059</td><td>1</td><td>0</td></tr><tr><th>27</th><td>2020-01-29</td><td>Cook</td><td>Illinois</td><td>17031</td><td>1</td><td>0</td></tr><tr><th>28</th><td>2020-01-29</td><td>Snohomish</td><td>Washington</td><td>53061</td><td>1</td><td>0</td></tr><tr><th>29</th><td>2020-01-30</td><td>Maricopa</td><td>Arizona</td><td>4013</td><td>1</td><td>0</td></tr><tr><th>30</th><td>2020-01-30</td><td>Los Angeles</td><td>California</td><td>6037</td><td>1</td><td>0</td></tr><tr><th>&vellip;</th><td>&vellip;</td><td>&vellip;</td><td>&vellip;</td><td>&vellip;</td><td>&vellip;</td><td>&vellip;</td></tr></tbody></table>"
      ],
      "text/latex": [
       "\\begin{tabular}{r|cccccc}\n",
       "\t& date & county & state & fips & cases & deaths\\\\\n",
       "\t\\hline\n",
       "\t& Dates… & String & String & Int64⍰ & Int64 & Int64\\\\\n",
       "\t\\hline\n",
       "\t1 & 2020-01-21 & Snohomish & Washington & 53061 & 1 & 0 \\\\\n",
       "\t2 & 2020-01-22 & Snohomish & Washington & 53061 & 1 & 0 \\\\\n",
       "\t3 & 2020-01-23 & Snohomish & Washington & 53061 & 1 & 0 \\\\\n",
       "\t4 & 2020-01-24 & Cook & Illinois & 17031 & 1 & 0 \\\\\n",
       "\t5 & 2020-01-24 & Snohomish & Washington & 53061 & 1 & 0 \\\\\n",
       "\t6 & 2020-01-25 & Orange & California & 6059 & 1 & 0 \\\\\n",
       "\t7 & 2020-01-25 & Cook & Illinois & 17031 & 1 & 0 \\\\\n",
       "\t8 & 2020-01-25 & Snohomish & Washington & 53061 & 1 & 0 \\\\\n",
       "\t9 & 2020-01-26 & Maricopa & Arizona & 4013 & 1 & 0 \\\\\n",
       "\t10 & 2020-01-26 & Los Angeles & California & 6037 & 1 & 0 \\\\\n",
       "\t11 & 2020-01-26 & Orange & California & 6059 & 1 & 0 \\\\\n",
       "\t12 & 2020-01-26 & Cook & Illinois & 17031 & 1 & 0 \\\\\n",
       "\t13 & 2020-01-26 & Snohomish & Washington & 53061 & 1 & 0 \\\\\n",
       "\t14 & 2020-01-27 & Maricopa & Arizona & 4013 & 1 & 0 \\\\\n",
       "\t15 & 2020-01-27 & Los Angeles & California & 6037 & 1 & 0 \\\\\n",
       "\t16 & 2020-01-27 & Orange & California & 6059 & 1 & 0 \\\\\n",
       "\t17 & 2020-01-27 & Cook & Illinois & 17031 & 1 & 0 \\\\\n",
       "\t18 & 2020-01-27 & Snohomish & Washington & 53061 & 1 & 0 \\\\\n",
       "\t19 & 2020-01-28 & Maricopa & Arizona & 4013 & 1 & 0 \\\\\n",
       "\t20 & 2020-01-28 & Los Angeles & California & 6037 & 1 & 0 \\\\\n",
       "\t21 & 2020-01-28 & Orange & California & 6059 & 1 & 0 \\\\\n",
       "\t22 & 2020-01-28 & Cook & Illinois & 17031 & 1 & 0 \\\\\n",
       "\t23 & 2020-01-28 & Snohomish & Washington & 53061 & 1 & 0 \\\\\n",
       "\t24 & 2020-01-29 & Maricopa & Arizona & 4013 & 1 & 0 \\\\\n",
       "\t25 & 2020-01-29 & Los Angeles & California & 6037 & 1 & 0 \\\\\n",
       "\t26 & 2020-01-29 & Orange & California & 6059 & 1 & 0 \\\\\n",
       "\t27 & 2020-01-29 & Cook & Illinois & 17031 & 1 & 0 \\\\\n",
       "\t28 & 2020-01-29 & Snohomish & Washington & 53061 & 1 & 0 \\\\\n",
       "\t29 & 2020-01-30 & Maricopa & Arizona & 4013 & 1 & 0 \\\\\n",
       "\t30 & 2020-01-30 & Los Angeles & California & 6037 & 1 & 0 \\\\\n",
       "\t$\\dots$ & $\\dots$ & $\\dots$ & $\\dots$ & $\\dots$ & $\\dots$ & $\\dots$ \\\\\n",
       "\\end{tabular}\n"
      ],
      "text/plain": [
       "147245×6 DataFrame\n",
       "│ Row    │ date       │ county      │ state      │ fips   │ cases │ deaths │\n",
       "│        │ \u001b[90mDates.Date\u001b[39m │ \u001b[90mString\u001b[39m      │ \u001b[90mString\u001b[39m     │ \u001b[90mInt64⍰\u001b[39m │ \u001b[90mInt64\u001b[39m │ \u001b[90mInt64\u001b[39m  │\n",
       "├────────┼────────────┼─────────────┼────────────┼────────┼───────┼────────┤\n",
       "│ 1      │ 2020-01-21 │ Snohomish   │ Washington │ 53061  │ 1     │ 0      │\n",
       "│ 2      │ 2020-01-22 │ Snohomish   │ Washington │ 53061  │ 1     │ 0      │\n",
       "│ 3      │ 2020-01-23 │ Snohomish   │ Washington │ 53061  │ 1     │ 0      │\n",
       "│ 4      │ 2020-01-24 │ Cook        │ Illinois   │ 17031  │ 1     │ 0      │\n",
       "│ 5      │ 2020-01-24 │ Snohomish   │ Washington │ 53061  │ 1     │ 0      │\n",
       "│ 6      │ 2020-01-25 │ Orange      │ California │ 6059   │ 1     │ 0      │\n",
       "│ 7      │ 2020-01-25 │ Cook        │ Illinois   │ 17031  │ 1     │ 0      │\n",
       "│ 8      │ 2020-01-25 │ Snohomish   │ Washington │ 53061  │ 1     │ 0      │\n",
       "│ 9      │ 2020-01-26 │ Maricopa    │ Arizona    │ 4013   │ 1     │ 0      │\n",
       "│ 10     │ 2020-01-26 │ Los Angeles │ California │ 6037   │ 1     │ 0      │\n",
       "⋮\n",
       "│ 147235 │ 2020-05-15 │ Laramie     │ Wyoming    │ 56021  │ 178   │ 1      │\n",
       "│ 147236 │ 2020-05-15 │ Lincoln     │ Wyoming    │ 56023  │ 14    │ 0      │\n",
       "│ 147237 │ 2020-05-15 │ Natrona     │ Wyoming    │ 56025  │ 50    │ 0      │\n",
       "│ 147238 │ 2020-05-15 │ Niobrara    │ Wyoming    │ 56027  │ 2     │ 0      │\n",
       "│ 147239 │ 2020-05-15 │ Park        │ Wyoming    │ 56029  │ 1     │ 0      │\n",
       "│ 147240 │ 2020-05-15 │ Sheridan    │ Wyoming    │ 56033  │ 16    │ 0      │\n",
       "│ 147241 │ 2020-05-15 │ Sublette    │ Wyoming    │ 56035  │ 3     │ 0      │\n",
       "│ 147242 │ 2020-05-15 │ Sweetwater  │ Wyoming    │ 56037  │ 22    │ 0      │\n",
       "│ 147243 │ 2020-05-15 │ Teton       │ Wyoming    │ 56039  │ 99    │ 1      │\n",
       "│ 147244 │ 2020-05-15 │ Uinta       │ Wyoming    │ 56041  │ 9     │ 0      │\n",
       "│ 147245 │ 2020-05-15 │ Washakie    │ Wyoming    │ 56043  │ 8     │ 0      │"
      ]
     },
     "execution_count": 11,
     "metadata": {},
     "output_type": "execute_result"
    }
   ],
   "source": [
    "request = HTTP.request(\"GET\", \"https://raw.githubusercontent.com/nytimes/covid-19-data/master/us-counties.csv\")\n",
    "io = IOBuffer(String(request.body))\n",
    "df = CSV.File(io) |> DataFrame;"
   ]
  },
  {
   "cell_type": "code",
   "execution_count": 29,
   "metadata": {},
   "outputs": [
    {
     "data": {
      "text/html": [
       "<table class=\"data-frame\"><thead><tr><th></th><th>date</th><th>county</th><th>state</th><th>fips</th><th>cases</th><th>deaths</th></tr><tr><th></th><th>Dates…</th><th>String</th><th>String</th><th>Int64⍰</th><th>Int64</th><th>Int64</th></tr></thead><tbody><p>145,721 rows × 6 columns</p><tr><th>1</th><td>2020-01-21</td><td>Snohomish</td><td>Washington</td><td>53061</td><td>1</td><td>0</td></tr><tr><th>2</th><td>2020-01-22</td><td>Snohomish</td><td>Washington</td><td>53061</td><td>1</td><td>0</td></tr><tr><th>3</th><td>2020-01-23</td><td>Snohomish</td><td>Washington</td><td>53061</td><td>1</td><td>0</td></tr><tr><th>4</th><td>2020-01-24</td><td>Cook</td><td>Illinois</td><td>17031</td><td>1</td><td>0</td></tr><tr><th>5</th><td>2020-01-24</td><td>Snohomish</td><td>Washington</td><td>53061</td><td>1</td><td>0</td></tr><tr><th>6</th><td>2020-01-25</td><td>Orange</td><td>California</td><td>6059</td><td>1</td><td>0</td></tr><tr><th>7</th><td>2020-01-25</td><td>Cook</td><td>Illinois</td><td>17031</td><td>1</td><td>0</td></tr><tr><th>8</th><td>2020-01-25</td><td>Snohomish</td><td>Washington</td><td>53061</td><td>1</td><td>0</td></tr><tr><th>9</th><td>2020-01-26</td><td>Maricopa</td><td>Arizona</td><td>4013</td><td>1</td><td>0</td></tr><tr><th>10</th><td>2020-01-26</td><td>Los Angeles</td><td>California</td><td>6037</td><td>1</td><td>0</td></tr><tr><th>11</th><td>2020-01-26</td><td>Orange</td><td>California</td><td>6059</td><td>1</td><td>0</td></tr><tr><th>12</th><td>2020-01-26</td><td>Cook</td><td>Illinois</td><td>17031</td><td>1</td><td>0</td></tr><tr><th>13</th><td>2020-01-26</td><td>Snohomish</td><td>Washington</td><td>53061</td><td>1</td><td>0</td></tr><tr><th>14</th><td>2020-01-27</td><td>Maricopa</td><td>Arizona</td><td>4013</td><td>1</td><td>0</td></tr><tr><th>15</th><td>2020-01-27</td><td>Los Angeles</td><td>California</td><td>6037</td><td>1</td><td>0</td></tr><tr><th>16</th><td>2020-01-27</td><td>Orange</td><td>California</td><td>6059</td><td>1</td><td>0</td></tr><tr><th>17</th><td>2020-01-27</td><td>Cook</td><td>Illinois</td><td>17031</td><td>1</td><td>0</td></tr><tr><th>18</th><td>2020-01-27</td><td>Snohomish</td><td>Washington</td><td>53061</td><td>1</td><td>0</td></tr><tr><th>19</th><td>2020-01-28</td><td>Maricopa</td><td>Arizona</td><td>4013</td><td>1</td><td>0</td></tr><tr><th>20</th><td>2020-01-28</td><td>Los Angeles</td><td>California</td><td>6037</td><td>1</td><td>0</td></tr><tr><th>21</th><td>2020-01-28</td><td>Orange</td><td>California</td><td>6059</td><td>1</td><td>0</td></tr><tr><th>22</th><td>2020-01-28</td><td>Cook</td><td>Illinois</td><td>17031</td><td>1</td><td>0</td></tr><tr><th>23</th><td>2020-01-28</td><td>Snohomish</td><td>Washington</td><td>53061</td><td>1</td><td>0</td></tr><tr><th>24</th><td>2020-01-29</td><td>Maricopa</td><td>Arizona</td><td>4013</td><td>1</td><td>0</td></tr><tr><th>25</th><td>2020-01-29</td><td>Los Angeles</td><td>California</td><td>6037</td><td>1</td><td>0</td></tr><tr><th>26</th><td>2020-01-29</td><td>Orange</td><td>California</td><td>6059</td><td>1</td><td>0</td></tr><tr><th>27</th><td>2020-01-29</td><td>Cook</td><td>Illinois</td><td>17031</td><td>1</td><td>0</td></tr><tr><th>28</th><td>2020-01-29</td><td>Snohomish</td><td>Washington</td><td>53061</td><td>1</td><td>0</td></tr><tr><th>29</th><td>2020-01-30</td><td>Maricopa</td><td>Arizona</td><td>4013</td><td>1</td><td>0</td></tr><tr><th>30</th><td>2020-01-30</td><td>Los Angeles</td><td>California</td><td>6037</td><td>1</td><td>0</td></tr><tr><th>&vellip;</th><td>&vellip;</td><td>&vellip;</td><td>&vellip;</td><td>&vellip;</td><td>&vellip;</td><td>&vellip;</td></tr></tbody></table>"
      ],
      "text/latex": [
       "\\begin{tabular}{r|cccccc}\n",
       "\t& date & county & state & fips & cases & deaths\\\\\n",
       "\t\\hline\n",
       "\t& Dates… & String & String & Int64⍰ & Int64 & Int64\\\\\n",
       "\t\\hline\n",
       "\t1 & 2020-01-21 & Snohomish & Washington & 53061 & 1 & 0 \\\\\n",
       "\t2 & 2020-01-22 & Snohomish & Washington & 53061 & 1 & 0 \\\\\n",
       "\t3 & 2020-01-23 & Snohomish & Washington & 53061 & 1 & 0 \\\\\n",
       "\t4 & 2020-01-24 & Cook & Illinois & 17031 & 1 & 0 \\\\\n",
       "\t5 & 2020-01-24 & Snohomish & Washington & 53061 & 1 & 0 \\\\\n",
       "\t6 & 2020-01-25 & Orange & California & 6059 & 1 & 0 \\\\\n",
       "\t7 & 2020-01-25 & Cook & Illinois & 17031 & 1 & 0 \\\\\n",
       "\t8 & 2020-01-25 & Snohomish & Washington & 53061 & 1 & 0 \\\\\n",
       "\t9 & 2020-01-26 & Maricopa & Arizona & 4013 & 1 & 0 \\\\\n",
       "\t10 & 2020-01-26 & Los Angeles & California & 6037 & 1 & 0 \\\\\n",
       "\t11 & 2020-01-26 & Orange & California & 6059 & 1 & 0 \\\\\n",
       "\t12 & 2020-01-26 & Cook & Illinois & 17031 & 1 & 0 \\\\\n",
       "\t13 & 2020-01-26 & Snohomish & Washington & 53061 & 1 & 0 \\\\\n",
       "\t14 & 2020-01-27 & Maricopa & Arizona & 4013 & 1 & 0 \\\\\n",
       "\t15 & 2020-01-27 & Los Angeles & California & 6037 & 1 & 0 \\\\\n",
       "\t16 & 2020-01-27 & Orange & California & 6059 & 1 & 0 \\\\\n",
       "\t17 & 2020-01-27 & Cook & Illinois & 17031 & 1 & 0 \\\\\n",
       "\t18 & 2020-01-27 & Snohomish & Washington & 53061 & 1 & 0 \\\\\n",
       "\t19 & 2020-01-28 & Maricopa & Arizona & 4013 & 1 & 0 \\\\\n",
       "\t20 & 2020-01-28 & Los Angeles & California & 6037 & 1 & 0 \\\\\n",
       "\t21 & 2020-01-28 & Orange & California & 6059 & 1 & 0 \\\\\n",
       "\t22 & 2020-01-28 & Cook & Illinois & 17031 & 1 & 0 \\\\\n",
       "\t23 & 2020-01-28 & Snohomish & Washington & 53061 & 1 & 0 \\\\\n",
       "\t24 & 2020-01-29 & Maricopa & Arizona & 4013 & 1 & 0 \\\\\n",
       "\t25 & 2020-01-29 & Los Angeles & California & 6037 & 1 & 0 \\\\\n",
       "\t26 & 2020-01-29 & Orange & California & 6059 & 1 & 0 \\\\\n",
       "\t27 & 2020-01-29 & Cook & Illinois & 17031 & 1 & 0 \\\\\n",
       "\t28 & 2020-01-29 & Snohomish & Washington & 53061 & 1 & 0 \\\\\n",
       "\t29 & 2020-01-30 & Maricopa & Arizona & 4013 & 1 & 0 \\\\\n",
       "\t30 & 2020-01-30 & Los Angeles & California & 6037 & 1 & 0 \\\\\n",
       "\t$\\dots$ & $\\dots$ & $\\dots$ & $\\dots$ & $\\dots$ & $\\dots$ & $\\dots$ \\\\\n",
       "\\end{tabular}\n"
      ],
      "text/plain": [
       "145721×6 DataFrame\n",
       "│ Row    │ date       │ county      │ state      │ fips   │ cases │ deaths │\n",
       "│        │ \u001b[90mDates.Date\u001b[39m │ \u001b[90mString\u001b[39m      │ \u001b[90mString\u001b[39m     │ \u001b[90mInt64⍰\u001b[39m │ \u001b[90mInt64\u001b[39m │ \u001b[90mInt64\u001b[39m  │\n",
       "├────────┼────────────┼─────────────┼────────────┼────────┼───────┼────────┤\n",
       "│ 1      │ 2020-01-21 │ Snohomish   │ Washington │ 53061  │ 1     │ 0      │\n",
       "│ 2      │ 2020-01-22 │ Snohomish   │ Washington │ 53061  │ 1     │ 0      │\n",
       "│ 3      │ 2020-01-23 │ Snohomish   │ Washington │ 53061  │ 1     │ 0      │\n",
       "│ 4      │ 2020-01-24 │ Cook        │ Illinois   │ 17031  │ 1     │ 0      │\n",
       "│ 5      │ 2020-01-24 │ Snohomish   │ Washington │ 53061  │ 1     │ 0      │\n",
       "│ 6      │ 2020-01-25 │ Orange      │ California │ 6059   │ 1     │ 0      │\n",
       "│ 7      │ 2020-01-25 │ Cook        │ Illinois   │ 17031  │ 1     │ 0      │\n",
       "│ 8      │ 2020-01-25 │ Snohomish   │ Washington │ 53061  │ 1     │ 0      │\n",
       "│ 9      │ 2020-01-26 │ Maricopa    │ Arizona    │ 4013   │ 1     │ 0      │\n",
       "│ 10     │ 2020-01-26 │ Los Angeles │ California │ 6037   │ 1     │ 0      │\n",
       "⋮\n",
       "│ 145711 │ 2020-05-15 │ Laramie     │ Wyoming    │ 56021  │ 178   │ 1      │\n",
       "│ 145712 │ 2020-05-15 │ Lincoln     │ Wyoming    │ 56023  │ 14    │ 0      │\n",
       "│ 145713 │ 2020-05-15 │ Natrona     │ Wyoming    │ 56025  │ 50    │ 0      │\n",
       "│ 145714 │ 2020-05-15 │ Niobrara    │ Wyoming    │ 56027  │ 2     │ 0      │\n",
       "│ 145715 │ 2020-05-15 │ Park        │ Wyoming    │ 56029  │ 1     │ 0      │\n",
       "│ 145716 │ 2020-05-15 │ Sheridan    │ Wyoming    │ 56033  │ 16    │ 0      │\n",
       "│ 145717 │ 2020-05-15 │ Sublette    │ Wyoming    │ 56035  │ 3     │ 0      │\n",
       "│ 145718 │ 2020-05-15 │ Sweetwater  │ Wyoming    │ 56037  │ 22    │ 0      │\n",
       "│ 145719 │ 2020-05-15 │ Teton       │ Wyoming    │ 56039  │ 99    │ 1      │\n",
       "│ 145720 │ 2020-05-15 │ Uinta       │ Wyoming    │ 56041  │ 9     │ 0      │\n",
       "│ 145721 │ 2020-05-15 │ Washakie    │ Wyoming    │ 56043  │ 8     │ 0      │"
      ]
     },
     "execution_count": 29,
     "metadata": {},
     "output_type": "execute_result"
    }
   ],
   "source": [
    "df[df.county .== \"New York City\", :fips] .= 36061\n",
    "df[df.county .== \"Kansas City\", :fips] .= 20085\n",
    "df = df[df.county .!= \"Unknown\", :]\n",
    "df[:, :fips] .= lpad(df[!, :fips], 5, \"0\")"
   ]
  },
  {
   "cell_type": "code",
   "execution_count": 33,
   "metadata": {},
   "outputs": [
    {
     "ename": "BoundsError",
     "evalue": "BoundsError: attempt to access String",
     "output_type": "error",
     "traceback": [
      "BoundsError: attempt to access String",
      "",
      "Stacktrace:",
      " [1] getindex(::DataFrame, ::Bool, ::Symbol) at /Users/thomasslebir/.juliapro/JuliaPro_v1.4.1-1/packages/DataFrames/S3ZFo/src/dataframe/dataframe.jl:325",
      " [2] top-level scope at In[33]:1"
     ]
    }
   ],
   "source": [
    "df[length(string(df.fips)) .< 5, :fips]"
   ]
  },
  {
   "cell_type": "code",
   "execution_count": 37,
   "metadata": {},
   "outputs": [
    {
     "data": {
      "text/plain": [
       "1004085"
      ]
     },
     "execution_count": 37,
     "metadata": {},
     "output_type": "execute_result"
    }
   ],
   "source": [
    "l = lpad(df[:, :fips], 5, \"0\")\n",
    "length(l)"
   ]
  },
  {
   "cell_type": "code",
   "execution_count": 40,
   "metadata": {},
   "outputs": [
    {
     "data": {
      "text/plain": [
       "\"06059\""
      ]
     },
     "execution_count": 40,
     "metadata": {},
     "output_type": "execute_result"
    }
   ],
   "source": [
    "lpad(df[6, :fips], 5, \"0\")"
   ]
  },
  {
   "cell_type": "code",
   "execution_count": null,
   "metadata": {},
   "outputs": [],
   "source": []
  }
 ],
 "metadata": {
  "kernelspec": {
   "display_name": "Julia 1.4.1",
   "language": "julia",
   "name": "julia-1.4"
  },
  "language_info": {
   "file_extension": ".jl",
   "mimetype": "application/julia",
   "name": "julia",
   "version": "1.4.1"
  }
 },
 "nbformat": 4,
 "nbformat_minor": 4
}
