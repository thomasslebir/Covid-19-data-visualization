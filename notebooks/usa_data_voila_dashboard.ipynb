{
 "cells": [
  {
   "cell_type": "code",
   "execution_count": 2,
   "metadata": {},
   "outputs": [],
   "source": [
    "import json\n",
    "import math\n",
    "import requests\n",
    "\n",
    "import modin.pandas as mpd\n",
    "import numpy as np\n",
    "import pandas as pd\n",
    "import plotly.express as px\n",
    "import plotly.io as pio"
   ]
  },
  {
   "cell_type": "code",
   "execution_count": 3,
   "metadata": {},
   "outputs": [],
   "source": [
    "pio.renderers.default = \"iframe\""
   ]
  },
  {
   "cell_type": "code",
   "execution_count": 4,
   "metadata": {},
   "outputs": [],
   "source": [
    "def get_nytimes_state_data(url=None):\n",
    "    \"\"\"\n",
    "    Returns a DataFrame of state-level Covid-19 data from the New York Times' GitHub.\n",
    "    \n",
    "    Args:\n",
    "        url (str): URL to csv file.\n",
    "        \n",
    "    Returns:\n",
    "        pd.DataFrame\n",
    "    \"\"\"\n",
    "    if url is None:\n",
    "        url = r\"https://raw.githubusercontent.com/nytimes/covid-19-data/master/us-states.csv\"\n",
    "    \n",
    "    # Read data & pad FIPS\n",
    "    df = pd.read_csv(url)\n",
    "    df[\"fips\"] = df[\"fips\"].astype(int).astype(str).str.zfill(2)\n",
    "    df.rename(columns={\"cases\": \"cum_cases\", \"deaths\": \"cum_deaths\"}, inplace=True)\n",
    "    \n",
    "    # Make tidy\n",
    "    all_dates = pd.date_range(df[\"date\"].min(), df[\"date\"].max()).astype(str).tolist()\n",
    "    frames = []\n",
    "    for state in df[\"state\"].unique():\n",
    "        df_state = df[df[\"state\"] == state].copy()\n",
    "        dates_to_add = list(set(all_dates).difference(set(df_state[\"date\"])))\n",
    "        df_to_add = pd.DataFrame({\"date\": dates_to_add})\n",
    "        df_to_add[\"state\"] = state\n",
    "        df_to_add[\"fips\"] = df_state[\"fips\"].iloc[0]\n",
    "        # Aggregate\n",
    "        df_state_new = pd.concat([df_state, df_to_add])\n",
    "        df_state_new.sort_values(by=\"date\", inplace=True)\n",
    "        for col in [\"cases\", \"deaths\"]:\n",
    "            df_state_new[\"cum_{}\".format(col)].fillna(method=\"ffill\", inplace=True)\n",
    "            df_state_new[\"cum_{}\".format(col)].fillna(0, inplace=True)\n",
    "            df_state_new[col] = df_state_new[\"cum_{}\".format(col)].diff().fillna(0)\n",
    "        frames.append(df_state_new)\n",
    "        \n",
    "    df = pd.concat(frames, ignore_index=True)\n",
    "    df.sort_values(by=[\"state\", \"date\"], inplace=True)\n",
    "    \n",
    "    return df"
   ]
  },
  {
   "cell_type": "code",
   "execution_count": 5,
   "metadata": {},
   "outputs": [],
   "source": [
    "def get_nytimes_county_data(url=None):\n",
    "    \"\"\"\n",
    "    Returns a DataFrame of county-level Covid-19 data from the New York Times' GitHub.\n",
    "    \n",
    "    Args:\n",
    "        url (str): URL to csv file.\n",
    "        \n",
    "    Returns:\n",
    "        pd.DataFrame\n",
    "    \"\"\"\n",
    "    if url is None:\n",
    "        url = r\"https://raw.githubusercontent.com/nytimes/covid-19-data/master/us-counties.csv\"\n",
    "    \n",
    "    # Fill in missing FIPS & remove cases in unknown counties\n",
    "    df = pd.read_csv(url)\n",
    "    df.loc[df[\"county\"] == \"New York City\", \"fips\"] = 36061\n",
    "    df.loc[df[\"county\"] == \"Kansas City\", \"fips\"] = 20085\n",
    "    df = df[df[\"county\"] != \"Unknown\"].copy()\n",
    "    df[\"fips\"] = df[\"fips\"].astype(int).astype(str).str.zfill(5)\n",
    "    df.rename(columns={\"cases\": \"cum_cases\", \"deaths\": \"cum_deaths\"}, inplace=True)\n",
    "    \n",
    "    # Make tidy\n",
    "    all_dates = pd.date_range(df[\"date\"].min(), df[\"date\"].max()).astype(str).tolist()\n",
    "    frames = []\n",
    "    for fips in df[\"fips\"].unique():\n",
    "        df_county = df[df[\"fips\"] == fips].copy()\n",
    "        dates_to_add = list(set(all_dates).difference(set(df_county[\"date\"])))\n",
    "        df_to_add = pd.DataFrame({\"date\": dates_to_add})\n",
    "        df_to_add[\"county\"] = df_county[\"county\"].iloc[0]\n",
    "        df_to_add[\"state\"] = df_county[\"state\"].iloc[0]\n",
    "        df_to_add[\"fips\"] = fips\n",
    "        # Aggregate\n",
    "        df_county_new = pd.concat([df_county, df_to_add])\n",
    "        df_county_new.sort_values(by=\"date\", inplace=True)\n",
    "        for col in [\"cases\", \"deaths\"]:\n",
    "            df_county_new[\"cum_{}\".format(col)].fillna(method=\"ffill\", inplace=True)\n",
    "            df_county_new[\"cum_{}\".format(col)].fillna(0, inplace=True)\n",
    "            df_county_new[col] = df_county_new[\"cum_{}\".format(col)].diff().fillna(0)\n",
    "        frames.append(df_county_new)\n",
    "            \n",
    "    df = pd.concat(frames, ignore_index=True)\n",
    "    df.sort_values(by=[\"county\", \"date\"], inplace=True)\n",
    "    \n",
    "    return df"
   ]
  },
  {
   "cell_type": "code",
   "execution_count": 6,
   "metadata": {},
   "outputs": [],
   "source": [
    "def modin_get_nytimes_county_data(url=None):\n",
    "    \"\"\"\n",
    "    Returns a DataFrame of county-level Covid-19 data from the New York Times' GitHub.\n",
    "    \n",
    "    Args:\n",
    "        url (str): URL to csv file.\n",
    "        \n",
    "    Returns:\n",
    "        mpd.DataFrame\n",
    "    \"\"\"\n",
    "    if url is None:\n",
    "        url = r\"https://raw.githubusercontent.com/nytimes/covid-19-data/master/us-counties.csv\"\n",
    "    \n",
    "    # Fill in missing FIPS & remove cases in unknown counties\n",
    "    df = mpd.read_csv(url)\n",
    "    df.loc[df[\"county\"] == \"New York City\", \"fips\"] = 36061\n",
    "    df.loc[df[\"county\"] == \"Kansas City\", \"fips\"] = 20085\n",
    "    df = df[df[\"county\"] != \"Unknown\"].copy()\n",
    "    df[\"fips\"] = df[\"fips\"].astype(int).astype(str).str.zfill(5)\n",
    "    df.rename(columns={\"cases\": \"cum_cases\", \"deaths\": \"cum_deaths\"}, inplace=True)\n",
    "    \n",
    "    # Make tidy\n",
    "    all_dates = mpd.date_range(df[\"date\"].min(), df[\"date\"].max()).astype(str).tolist()\n",
    "    frames = []\n",
    "    for fips in df[\"fips\"].unique():\n",
    "        df_county = df[df[\"fips\"] == fips].copy()\n",
    "        dates_to_add = list(set(all_dates).difference(set(df_county[\"date\"])))\n",
    "        df_to_add = mpd.DataFrame({\"date\": dates_to_add})\n",
    "        df_to_add[\"county\"] = df_county[\"county\"].iloc[0]\n",
    "        df_to_add[\"state\"] = df_county[\"state\"].iloc[0]\n",
    "        df_to_add[\"fips\"] = fips\n",
    "        # Aggregate\n",
    "        df_county_new = mpd.concat([df_county, df_to_add])\n",
    "        df_county_new.sort_values(by=\"date\", inplace=True)\n",
    "        for col in [\"cases\", \"deaths\"]:\n",
    "            df_county_new[\"cum_{}\".format(col)].fillna(method=\"ffill\", inplace=True)\n",
    "            df_county_new[\"cum_{}\".format(col)].fillna(0, inplace=True)\n",
    "            df_county_new[col] = df_county_new[\"cum_{}\".format(col)].diff().fillna(0)\n",
    "        frames.append(df_county_new)\n",
    "            \n",
    "    df = mpd.concat(frames, ignore_index=True)\n",
    "    df.sort_values(by=[\"county\", \"date\"], inplace=True)\n",
    "    \n",
    "    return df"
   ]
  },
  {
   "cell_type": "code",
   "execution_count": 7,
   "metadata": {},
   "outputs": [
    {
     "name": "stdout",
     "output_type": "stream",
     "text": [
      "52.8 s ± 2.77 s per loop (mean ± std. dev. of 7 runs, 1 loop each)\n"
     ]
    }
   ],
   "source": [
    "%timeit get_nytimes_county_data()"
   ]
  },
  {
   "cell_type": "code",
   "execution_count": 8,
   "metadata": {},
   "outputs": [
    {
     "name": "stderr",
     "output_type": "stream",
     "text": [
      "/Users/thomasslebir/opt/anaconda3/envs/covid_viz_env/lib/python3.8/site-packages/modin/error_message.py:45: UserWarning:\n",
      "\n",
      "Parameters provided defaulting to pandas implementation.\n",
      "To request implementation, send an email to feature_requests@modin.org.\n",
      "\n",
      "/Users/thomasslebir/opt/anaconda3/envs/covid_viz_env/lib/python3.8/site-packages/modin/error_message.py:45: UserWarning:\n",
      "\n",
      "`Series.unique` defaulting to pandas implementation.\n",
      "\n",
      "/Users/thomasslebir/opt/anaconda3/envs/covid_viz_env/lib/python3.8/site-packages/modin/pandas/dataframe.py:109: UserWarning:\n",
      "\n",
      "Distributing <class 'dict'> object. This may take some time.\n",
      "\n",
      "/Users/thomasslebir/opt/anaconda3/envs/covid_viz_env/lib/python3.8/site-packages/modin/error_message.py:45: UserWarning:\n",
      "\n",
      "`DataFrame.insert` for empty DataFrame defaulting to pandas implementation.\n",
      "\n",
      "/Users/thomasslebir/opt/anaconda3/envs/covid_viz_env/lib/python3.8/site-packages/modin/pandas/dataframe.py:109: UserWarning:\n",
      "\n",
      "Distributing <class 'pandas.core.frame.DataFrame'> object. This may take some time.\n",
      "\n"
     ]
    },
    {
     "ename": "ValueError",
     "evalue": "all the input arrays must have same number of dimensions, but the array at index 0 has 2 dimension(s) and the array at index 1 has 1 dimension(s)",
     "output_type": "error",
     "traceback": [
      "\u001b[0;31m---------------------------------------------------------------------------\u001b[0m",
      "\u001b[0;31mValueError\u001b[0m                                Traceback (most recent call last)",
      "\u001b[0;32m<ipython-input-8-d684d7ed6b04>\u001b[0m in \u001b[0;36m<module>\u001b[0;34m\u001b[0m\n\u001b[0;32m----> 1\u001b[0;31m \u001b[0mget_ipython\u001b[0m\u001b[0;34m(\u001b[0m\u001b[0;34m)\u001b[0m\u001b[0;34m.\u001b[0m\u001b[0mrun_line_magic\u001b[0m\u001b[0;34m(\u001b[0m\u001b[0;34m'timeit'\u001b[0m\u001b[0;34m,\u001b[0m \u001b[0;34m'modin_get_nytimes_county_data()'\u001b[0m\u001b[0;34m)\u001b[0m\u001b[0;34m\u001b[0m\u001b[0;34m\u001b[0m\u001b[0m\n\u001b[0m",
      "\u001b[0;32m~/opt/anaconda3/envs/covid_viz_env/lib/python3.8/site-packages/IPython/core/interactiveshell.py\u001b[0m in \u001b[0;36mrun_line_magic\u001b[0;34m(self, magic_name, line, _stack_depth)\u001b[0m\n\u001b[1;32m   2315\u001b[0m                 \u001b[0mkwargs\u001b[0m\u001b[0;34m[\u001b[0m\u001b[0;34m'local_ns'\u001b[0m\u001b[0;34m]\u001b[0m \u001b[0;34m=\u001b[0m \u001b[0msys\u001b[0m\u001b[0;34m.\u001b[0m\u001b[0m_getframe\u001b[0m\u001b[0;34m(\u001b[0m\u001b[0mstack_depth\u001b[0m\u001b[0;34m)\u001b[0m\u001b[0;34m.\u001b[0m\u001b[0mf_locals\u001b[0m\u001b[0;34m\u001b[0m\u001b[0;34m\u001b[0m\u001b[0m\n\u001b[1;32m   2316\u001b[0m             \u001b[0;32mwith\u001b[0m \u001b[0mself\u001b[0m\u001b[0;34m.\u001b[0m\u001b[0mbuiltin_trap\u001b[0m\u001b[0;34m:\u001b[0m\u001b[0;34m\u001b[0m\u001b[0;34m\u001b[0m\u001b[0m\n\u001b[0;32m-> 2317\u001b[0;31m                 \u001b[0mresult\u001b[0m \u001b[0;34m=\u001b[0m \u001b[0mfn\u001b[0m\u001b[0;34m(\u001b[0m\u001b[0;34m*\u001b[0m\u001b[0margs\u001b[0m\u001b[0;34m,\u001b[0m \u001b[0;34m**\u001b[0m\u001b[0mkwargs\u001b[0m\u001b[0;34m)\u001b[0m\u001b[0;34m\u001b[0m\u001b[0;34m\u001b[0m\u001b[0m\n\u001b[0m\u001b[1;32m   2318\u001b[0m             \u001b[0;32mreturn\u001b[0m \u001b[0mresult\u001b[0m\u001b[0;34m\u001b[0m\u001b[0;34m\u001b[0m\u001b[0m\n\u001b[1;32m   2319\u001b[0m \u001b[0;34m\u001b[0m\u001b[0m\n",
      "\u001b[0;32m<decorator-gen-60>\u001b[0m in \u001b[0;36mtimeit\u001b[0;34m(self, line, cell, local_ns)\u001b[0m\n",
      "\u001b[0;32m~/opt/anaconda3/envs/covid_viz_env/lib/python3.8/site-packages/IPython/core/magic.py\u001b[0m in \u001b[0;36m<lambda>\u001b[0;34m(f, *a, **k)\u001b[0m\n\u001b[1;32m    185\u001b[0m     \u001b[0;31m# but it's overkill for just that one bit of state.\u001b[0m\u001b[0;34m\u001b[0m\u001b[0;34m\u001b[0m\u001b[0;34m\u001b[0m\u001b[0m\n\u001b[1;32m    186\u001b[0m     \u001b[0;32mdef\u001b[0m \u001b[0mmagic_deco\u001b[0m\u001b[0;34m(\u001b[0m\u001b[0marg\u001b[0m\u001b[0;34m)\u001b[0m\u001b[0;34m:\u001b[0m\u001b[0;34m\u001b[0m\u001b[0;34m\u001b[0m\u001b[0m\n\u001b[0;32m--> 187\u001b[0;31m         \u001b[0mcall\u001b[0m \u001b[0;34m=\u001b[0m \u001b[0;32mlambda\u001b[0m \u001b[0mf\u001b[0m\u001b[0;34m,\u001b[0m \u001b[0;34m*\u001b[0m\u001b[0ma\u001b[0m\u001b[0;34m,\u001b[0m \u001b[0;34m**\u001b[0m\u001b[0mk\u001b[0m\u001b[0;34m:\u001b[0m \u001b[0mf\u001b[0m\u001b[0;34m(\u001b[0m\u001b[0;34m*\u001b[0m\u001b[0ma\u001b[0m\u001b[0;34m,\u001b[0m \u001b[0;34m**\u001b[0m\u001b[0mk\u001b[0m\u001b[0;34m)\u001b[0m\u001b[0;34m\u001b[0m\u001b[0;34m\u001b[0m\u001b[0m\n\u001b[0m\u001b[1;32m    188\u001b[0m \u001b[0;34m\u001b[0m\u001b[0m\n\u001b[1;32m    189\u001b[0m         \u001b[0;32mif\u001b[0m \u001b[0mcallable\u001b[0m\u001b[0;34m(\u001b[0m\u001b[0marg\u001b[0m\u001b[0;34m)\u001b[0m\u001b[0;34m:\u001b[0m\u001b[0;34m\u001b[0m\u001b[0;34m\u001b[0m\u001b[0m\n",
      "\u001b[0;32m~/opt/anaconda3/envs/covid_viz_env/lib/python3.8/site-packages/IPython/core/magics/execution.py\u001b[0m in \u001b[0;36mtimeit\u001b[0;34m(self, line, cell, local_ns)\u001b[0m\n\u001b[1;32m   1158\u001b[0m             \u001b[0;32mfor\u001b[0m \u001b[0mindex\u001b[0m \u001b[0;32min\u001b[0m \u001b[0mrange\u001b[0m\u001b[0;34m(\u001b[0m\u001b[0;36m0\u001b[0m\u001b[0;34m,\u001b[0m \u001b[0;36m10\u001b[0m\u001b[0;34m)\u001b[0m\u001b[0;34m:\u001b[0m\u001b[0;34m\u001b[0m\u001b[0;34m\u001b[0m\u001b[0m\n\u001b[1;32m   1159\u001b[0m                 \u001b[0mnumber\u001b[0m \u001b[0;34m=\u001b[0m \u001b[0;36m10\u001b[0m \u001b[0;34m**\u001b[0m \u001b[0mindex\u001b[0m\u001b[0;34m\u001b[0m\u001b[0;34m\u001b[0m\u001b[0m\n\u001b[0;32m-> 1160\u001b[0;31m                 \u001b[0mtime_number\u001b[0m \u001b[0;34m=\u001b[0m \u001b[0mtimer\u001b[0m\u001b[0;34m.\u001b[0m\u001b[0mtimeit\u001b[0m\u001b[0;34m(\u001b[0m\u001b[0mnumber\u001b[0m\u001b[0;34m)\u001b[0m\u001b[0;34m\u001b[0m\u001b[0;34m\u001b[0m\u001b[0m\n\u001b[0m\u001b[1;32m   1161\u001b[0m                 \u001b[0;32mif\u001b[0m \u001b[0mtime_number\u001b[0m \u001b[0;34m>=\u001b[0m \u001b[0;36m0.2\u001b[0m\u001b[0;34m:\u001b[0m\u001b[0;34m\u001b[0m\u001b[0;34m\u001b[0m\u001b[0m\n\u001b[1;32m   1162\u001b[0m                     \u001b[0;32mbreak\u001b[0m\u001b[0;34m\u001b[0m\u001b[0;34m\u001b[0m\u001b[0m\n",
      "\u001b[0;32m~/opt/anaconda3/envs/covid_viz_env/lib/python3.8/site-packages/IPython/core/magics/execution.py\u001b[0m in \u001b[0;36mtimeit\u001b[0;34m(self, number)\u001b[0m\n\u001b[1;32m    167\u001b[0m         \u001b[0mgc\u001b[0m\u001b[0;34m.\u001b[0m\u001b[0mdisable\u001b[0m\u001b[0;34m(\u001b[0m\u001b[0;34m)\u001b[0m\u001b[0;34m\u001b[0m\u001b[0;34m\u001b[0m\u001b[0m\n\u001b[1;32m    168\u001b[0m         \u001b[0;32mtry\u001b[0m\u001b[0;34m:\u001b[0m\u001b[0;34m\u001b[0m\u001b[0;34m\u001b[0m\u001b[0m\n\u001b[0;32m--> 169\u001b[0;31m             \u001b[0mtiming\u001b[0m \u001b[0;34m=\u001b[0m \u001b[0mself\u001b[0m\u001b[0;34m.\u001b[0m\u001b[0minner\u001b[0m\u001b[0;34m(\u001b[0m\u001b[0mit\u001b[0m\u001b[0;34m,\u001b[0m \u001b[0mself\u001b[0m\u001b[0;34m.\u001b[0m\u001b[0mtimer\u001b[0m\u001b[0;34m)\u001b[0m\u001b[0;34m\u001b[0m\u001b[0;34m\u001b[0m\u001b[0m\n\u001b[0m\u001b[1;32m    170\u001b[0m         \u001b[0;32mfinally\u001b[0m\u001b[0;34m:\u001b[0m\u001b[0;34m\u001b[0m\u001b[0;34m\u001b[0m\u001b[0m\n\u001b[1;32m    171\u001b[0m             \u001b[0;32mif\u001b[0m \u001b[0mgcold\u001b[0m\u001b[0;34m:\u001b[0m\u001b[0;34m\u001b[0m\u001b[0;34m\u001b[0m\u001b[0m\n",
      "\u001b[0;32m<magic-timeit>\u001b[0m in \u001b[0;36minner\u001b[0;34m(_it, _timer)\u001b[0m\n",
      "\u001b[0;32m<ipython-input-6-00393c934ac7>\u001b[0m in \u001b[0;36mmodin_get_nytimes_county_data\u001b[0;34m(url)\u001b[0m\n\u001b[1;32m     31\u001b[0m         \u001b[0mdf_to_add\u001b[0m\u001b[0;34m[\u001b[0m\u001b[0;34m\"fips\"\u001b[0m\u001b[0;34m]\u001b[0m \u001b[0;34m=\u001b[0m \u001b[0mfips\u001b[0m\u001b[0;34m\u001b[0m\u001b[0;34m\u001b[0m\u001b[0m\n\u001b[1;32m     32\u001b[0m         \u001b[0;31m# Aggregate\u001b[0m\u001b[0;34m\u001b[0m\u001b[0;34m\u001b[0m\u001b[0;34m\u001b[0m\u001b[0m\n\u001b[0;32m---> 33\u001b[0;31m         \u001b[0mdf_county_new\u001b[0m \u001b[0;34m=\u001b[0m \u001b[0mmpd\u001b[0m\u001b[0;34m.\u001b[0m\u001b[0mconcat\u001b[0m\u001b[0;34m(\u001b[0m\u001b[0;34m[\u001b[0m\u001b[0mdf_county\u001b[0m\u001b[0;34m,\u001b[0m \u001b[0mdf_to_add\u001b[0m\u001b[0;34m]\u001b[0m\u001b[0;34m)\u001b[0m\u001b[0;34m\u001b[0m\u001b[0;34m\u001b[0m\u001b[0m\n\u001b[0m\u001b[1;32m     34\u001b[0m         \u001b[0mdf_county_new\u001b[0m\u001b[0;34m.\u001b[0m\u001b[0msort_values\u001b[0m\u001b[0;34m(\u001b[0m\u001b[0mby\u001b[0m\u001b[0;34m=\u001b[0m\u001b[0;34m\"date\"\u001b[0m\u001b[0;34m,\u001b[0m \u001b[0minplace\u001b[0m\u001b[0;34m=\u001b[0m\u001b[0;32mTrue\u001b[0m\u001b[0;34m)\u001b[0m\u001b[0;34m\u001b[0m\u001b[0;34m\u001b[0m\u001b[0m\n\u001b[1;32m     35\u001b[0m         \u001b[0;32mfor\u001b[0m \u001b[0mcol\u001b[0m \u001b[0;32min\u001b[0m \u001b[0;34m[\u001b[0m\u001b[0;34m\"cases\"\u001b[0m\u001b[0;34m,\u001b[0m \u001b[0;34m\"deaths\"\u001b[0m\u001b[0;34m]\u001b[0m\u001b[0;34m:\u001b[0m\u001b[0;34m\u001b[0m\u001b[0;34m\u001b[0m\u001b[0m\n",
      "\u001b[0;32m~/opt/anaconda3/envs/covid_viz_env/lib/python3.8/site-packages/modin/pandas/concat.py\u001b[0m in \u001b[0;36mconcat\u001b[0;34m(objs, axis, join, ignore_index, keys, levels, names, verify_integrity, sort, copy)\u001b[0m\n\u001b[1;32m    113\u001b[0m     \u001b[0;32melse\u001b[0m\u001b[0;34m:\u001b[0m\u001b[0;34m\u001b[0m\u001b[0;34m\u001b[0m\u001b[0m\n\u001b[1;32m    114\u001b[0m         \u001b[0mnew_idx\u001b[0m \u001b[0;34m=\u001b[0m \u001b[0;32mNone\u001b[0m\u001b[0;34m\u001b[0m\u001b[0;34m\u001b[0m\u001b[0m\n\u001b[0;32m--> 115\u001b[0;31m     new_query_compiler = objs[0].concat(\n\u001b[0m\u001b[1;32m    116\u001b[0m         \u001b[0maxis\u001b[0m\u001b[0;34m,\u001b[0m\u001b[0;34m\u001b[0m\u001b[0;34m\u001b[0m\u001b[0m\n\u001b[1;32m    117\u001b[0m         \u001b[0mobjs\u001b[0m\u001b[0;34m[\u001b[0m\u001b[0;36m1\u001b[0m\u001b[0;34m:\u001b[0m\u001b[0;34m]\u001b[0m\u001b[0;34m,\u001b[0m\u001b[0;34m\u001b[0m\u001b[0;34m\u001b[0m\u001b[0m\n",
      "\u001b[0;32m~/opt/anaconda3/envs/covid_viz_env/lib/python3.8/site-packages/modin/backends/pandas/query_compiler.py\u001b[0m in \u001b[0;36mconcat\u001b[0;34m(self, axis, other, **kwargs)\u001b[0m\n\u001b[1;32m    153\u001b[0m         \u001b[0mignore_index\u001b[0m \u001b[0;34m=\u001b[0m \u001b[0mkwargs\u001b[0m\u001b[0;34m.\u001b[0m\u001b[0mget\u001b[0m\u001b[0;34m(\u001b[0m\u001b[0;34m\"ignore_index\"\u001b[0m\u001b[0;34m,\u001b[0m \u001b[0;32mFalse\u001b[0m\u001b[0;34m)\u001b[0m\u001b[0;34m\u001b[0m\u001b[0;34m\u001b[0m\u001b[0m\n\u001b[1;32m    154\u001b[0m         \u001b[0mother_modin_frame\u001b[0m \u001b[0;34m=\u001b[0m \u001b[0;34m[\u001b[0m\u001b[0mo\u001b[0m\u001b[0;34m.\u001b[0m\u001b[0m_modin_frame\u001b[0m \u001b[0;32mfor\u001b[0m \u001b[0mo\u001b[0m \u001b[0;32min\u001b[0m \u001b[0mother\u001b[0m\u001b[0;34m]\u001b[0m\u001b[0;34m\u001b[0m\u001b[0;34m\u001b[0m\u001b[0m\n\u001b[0;32m--> 155\u001b[0;31m         \u001b[0mnew_modin_frame\u001b[0m \u001b[0;34m=\u001b[0m \u001b[0mself\u001b[0m\u001b[0;34m.\u001b[0m\u001b[0m_modin_frame\u001b[0m\u001b[0;34m.\u001b[0m\u001b[0m_concat\u001b[0m\u001b[0;34m(\u001b[0m\u001b[0maxis\u001b[0m\u001b[0;34m,\u001b[0m \u001b[0mother_modin_frame\u001b[0m\u001b[0;34m,\u001b[0m \u001b[0mjoin\u001b[0m\u001b[0;34m,\u001b[0m \u001b[0msort\u001b[0m\u001b[0;34m)\u001b[0m\u001b[0;34m\u001b[0m\u001b[0;34m\u001b[0m\u001b[0m\n\u001b[0m\u001b[1;32m    156\u001b[0m         \u001b[0;32mif\u001b[0m \u001b[0mignore_index\u001b[0m\u001b[0;34m:\u001b[0m\u001b[0;34m\u001b[0m\u001b[0;34m\u001b[0m\u001b[0m\n\u001b[1;32m    157\u001b[0m             new_modin_frame.index = pandas.RangeIndex(\n",
      "\u001b[0;32m~/opt/anaconda3/envs/covid_viz_env/lib/python3.8/site-packages/modin/engines/base/frame/data.py\u001b[0m in \u001b[0;36m_concat\u001b[0;34m(self, axis, others, how, sort)\u001b[0m\n\u001b[1;32m   1157\u001b[0m             \u001b[0mnew_lengths\u001b[0m \u001b[0;34m=\u001b[0m \u001b[0;32mNone\u001b[0m\u001b[0;34m\u001b[0m\u001b[0;34m\u001b[0m\u001b[0m\n\u001b[1;32m   1158\u001b[0m             \u001b[0mnew_widths\u001b[0m \u001b[0;34m=\u001b[0m \u001b[0;32mNone\u001b[0m\u001b[0;34m\u001b[0m\u001b[0;34m\u001b[0m\u001b[0m\n\u001b[0;32m-> 1159\u001b[0;31m         \u001b[0mnew_partitions\u001b[0m \u001b[0;34m=\u001b[0m \u001b[0mself\u001b[0m\u001b[0;34m.\u001b[0m\u001b[0m_frame_mgr_cls\u001b[0m\u001b[0;34m.\u001b[0m\u001b[0mconcat\u001b[0m\u001b[0;34m(\u001b[0m\u001b[0maxis\u001b[0m\u001b[0;34m,\u001b[0m \u001b[0mleft_parts\u001b[0m\u001b[0;34m,\u001b[0m \u001b[0mright_parts\u001b[0m\u001b[0;34m)\u001b[0m\u001b[0;34m\u001b[0m\u001b[0;34m\u001b[0m\u001b[0m\n\u001b[0m\u001b[1;32m   1160\u001b[0m         \u001b[0;32mif\u001b[0m \u001b[0maxis\u001b[0m \u001b[0;34m==\u001b[0m \u001b[0;36m0\u001b[0m\u001b[0;34m:\u001b[0m\u001b[0;34m\u001b[0m\u001b[0;34m\u001b[0m\u001b[0m\n\u001b[1;32m   1161\u001b[0m             \u001b[0mnew_index\u001b[0m \u001b[0;34m=\u001b[0m \u001b[0mself\u001b[0m\u001b[0;34m.\u001b[0m\u001b[0mindex\u001b[0m\u001b[0;34m.\u001b[0m\u001b[0mappend\u001b[0m\u001b[0;34m(\u001b[0m\u001b[0;34m[\u001b[0m\u001b[0mother\u001b[0m\u001b[0;34m.\u001b[0m\u001b[0mindex\u001b[0m \u001b[0;32mfor\u001b[0m \u001b[0mother\u001b[0m \u001b[0;32min\u001b[0m \u001b[0mothers\u001b[0m\u001b[0;34m]\u001b[0m\u001b[0;34m)\u001b[0m\u001b[0;34m\u001b[0m\u001b[0;34m\u001b[0m\u001b[0m\n",
      "\u001b[0;32m~/opt/anaconda3/envs/covid_viz_env/lib/python3.8/site-packages/modin/engines/base/frame/partition_manager.py\u001b[0m in \u001b[0;36mconcat\u001b[0;34m(cls, axis, left_parts, right_parts)\u001b[0m\n\u001b[1;32m    301\u001b[0m         \"\"\"\n\u001b[1;32m    302\u001b[0m         \u001b[0;32mif\u001b[0m \u001b[0mtype\u001b[0m\u001b[0;34m(\u001b[0m\u001b[0mright_parts\u001b[0m\u001b[0;34m)\u001b[0m \u001b[0;32mis\u001b[0m \u001b[0mlist\u001b[0m\u001b[0;34m:\u001b[0m\u001b[0;34m\u001b[0m\u001b[0;34m\u001b[0m\u001b[0m\n\u001b[0;32m--> 303\u001b[0;31m             \u001b[0;32mreturn\u001b[0m \u001b[0mnp\u001b[0m\u001b[0;34m.\u001b[0m\u001b[0mconcatenate\u001b[0m\u001b[0;34m(\u001b[0m\u001b[0;34m[\u001b[0m\u001b[0mleft_parts\u001b[0m\u001b[0;34m]\u001b[0m \u001b[0;34m+\u001b[0m \u001b[0mright_parts\u001b[0m\u001b[0;34m,\u001b[0m \u001b[0maxis\u001b[0m\u001b[0;34m=\u001b[0m\u001b[0maxis\u001b[0m\u001b[0;34m)\u001b[0m\u001b[0;34m\u001b[0m\u001b[0;34m\u001b[0m\u001b[0m\n\u001b[0m\u001b[1;32m    304\u001b[0m         \u001b[0;32melse\u001b[0m\u001b[0;34m:\u001b[0m\u001b[0;34m\u001b[0m\u001b[0;34m\u001b[0m\u001b[0m\n\u001b[1;32m    305\u001b[0m             \u001b[0;32mreturn\u001b[0m \u001b[0mnp\u001b[0m\u001b[0;34m.\u001b[0m\u001b[0mappend\u001b[0m\u001b[0;34m(\u001b[0m\u001b[0mleft_parts\u001b[0m\u001b[0;34m,\u001b[0m \u001b[0mright_parts\u001b[0m\u001b[0;34m,\u001b[0m \u001b[0maxis\u001b[0m\u001b[0;34m=\u001b[0m\u001b[0maxis\u001b[0m\u001b[0;34m)\u001b[0m\u001b[0;34m\u001b[0m\u001b[0;34m\u001b[0m\u001b[0m\n",
      "\u001b[0;32m<__array_function__ internals>\u001b[0m in \u001b[0;36mconcatenate\u001b[0;34m(*args, **kwargs)\u001b[0m\n",
      "\u001b[0;31mValueError\u001b[0m: all the input arrays must have same number of dimensions, but the array at index 0 has 2 dimension(s) and the array at index 1 has 1 dimension(s)"
     ]
    }
   ],
   "source": [
    "%timeit modin_get_nytimes_county_data()"
   ]
  },
  {
   "cell_type": "code",
   "execution_count": 5,
   "metadata": {},
   "outputs": [],
   "source": [
    "url = r\"https://raw.githubusercontent.com/nytimes/covid-19-data/master/us-counties.csv\"\n",
    "\n",
    "# Fill in missing FIPS & remove cases in unknown counties\n",
    "df = pd.read_csv(url)\n",
    "df.loc[df[\"county\"] == \"New York City\", \"fips\"] = 36061\n",
    "df.loc[df[\"county\"] == \"Kansas City\", \"fips\"] = 20085\n",
    "df = df[df[\"county\"] != \"Unknown\"].copy()\n",
    "df[\"fips\"] = df[\"fips\"].astype(int).astype(str).str.zfill(5)\n",
    "df.rename(columns={\"cases\": \"cum_cases\", \"deaths\": \"cum_deaths\"}, inplace=True)\n",
    "\n",
    "# Make tidy\n",
    "all_dates = pd.date_range(df[\"date\"].min(), df[\"date\"].max()).astype(str).tolist()\n",
    "fips = df[\"fips\"].unique()[0]"
   ]
  },
  {
   "cell_type": "code",
   "execution_count": 10,
   "metadata": {},
   "outputs": [
    {
     "name": "stdout",
     "output_type": "stream",
     "text": [
      "7.35 ms ± 78.4 µs per loop (mean ± std. dev. of 7 runs, 100 loops each)\n"
     ]
    }
   ],
   "source": [
    "%%timeit\n",
    "df_filter = df[df[\"fips\"] == fips].copy()\n",
    "df_filter"
   ]
  },
  {
   "cell_type": "code",
   "execution_count": 8,
   "metadata": {},
   "outputs": [
    {
     "name": "stdout",
     "output_type": "stream",
     "text": [
      "396 ms ± 43 ms per loop (mean ± std. dev. of 7 runs, 1 loop each)\n"
     ]
    }
   ],
   "source": [
    "%%timeit\n",
    "df_groupby = df.groupby(\"fips\", as_index=False).filter(lambda x: x.name == fips)\n",
    "df_groupby"
   ]
  },
  {
   "cell_type": "code",
   "execution_count": 21,
   "metadata": {},
   "outputs": [
    {
     "name": "stdout",
     "output_type": "stream",
     "text": [
      "36.5 s ± 1.89 s per loop (mean ± std. dev. of 7 runs, 1 loop each)\n"
     ]
    }
   ],
   "source": [
    "%timeit get_nytimes_county_data()"
   ]
  },
  {
   "cell_type": "code",
   "execution_count": 14,
   "metadata": {},
   "outputs": [],
   "source": [
    "%load_ext line_profiler"
   ]
  },
  {
   "cell_type": "code",
   "execution_count": 15,
   "metadata": {},
   "outputs": [
    {
     "data": {
      "text/plain": [
       "Timer unit: 1e-06 s\n",
       "\n",
       "Total time: 37.8782 s\n",
       "File: <ipython-input-11-a1bc3cc4cd2e>\n",
       "Function: get_nytimes_county_data at line 1\n",
       "\n",
       "Line #      Hits         Time  Per Hit   % Time  Line Contents\n",
       "==============================================================\n",
       "     1                                           def get_nytimes_county_data(url=None):\n",
       "     2                                               \"\"\"\n",
       "     3                                               Returns a DataFrame of county-level Covid-19 data from the New York Times' GitHub.\n",
       "     4                                               \n",
       "     5                                               Args:\n",
       "     6                                                   url (str): URL to csv file.\n",
       "     7                                                   \n",
       "     8                                               Returns:\n",
       "     9                                                   pd.DataFrame\n",
       "    10                                               \"\"\"\n",
       "    11         1          3.0      3.0      0.0      if url is None:\n",
       "    12         1          1.0      1.0      0.0          url = r\"https://raw.githubusercontent.com/nytimes/covid-19-data/master/us-counties.csv\"\n",
       "    13                                               \n",
       "    14                                               # Fill in missing FIPS & remove cases in unknown counties\n",
       "    15         1    1720598.0 1720598.0      4.5      df = pd.read_csv(url)\n",
       "    16         1       9296.0   9296.0      0.0      df.loc[df[\"county\"] == \"New York City\", \"fips\"] = 36061\n",
       "    17         1       8587.0   8587.0      0.0      df.loc[df[\"county\"] == \"Kansas City\", \"fips\"] = 20085\n",
       "    18         1      17050.0  17050.0      0.0      df = df[df[\"county\"] != \"Unknown\"].copy()\n",
       "    19         1     114208.0 114208.0      0.3      df[\"fips\"] = df[\"fips\"].astype(int).astype(str).str.zfill(5)\n",
       "    20         1      12025.0  12025.0      0.0      df.rename(columns={\"cases\": \"cum_cases\", \"deaths\": \"cum_deaths\"}, inplace=True)\n",
       "    21                                               \n",
       "    22                                               # Make tidy\n",
       "    23         1      15844.0  15844.0      0.0      all_dates = pd.date_range(df[\"date\"].min(), df[\"date\"].max()).astype(str).tolist()\n",
       "    24         1          1.0      1.0      0.0      frames = []\n",
       "    25      2880       8827.0      3.1      0.0      for fips in df[\"fips\"].unique():\n",
       "    26      2879    9538986.0   3313.3     25.2          df_county = df[df[\"fips\"].isin([fips])].copy()\n",
       "    27      2879     358368.0    124.5      0.9          dates_to_add = list(set(all_dates).difference(set(df_county[\"date\"])))\n",
       "    28      2879    1894593.0    658.1      5.0          df_to_add = pd.DataFrame({\"date\": dates_to_add})\n",
       "    29      2879    2245215.0    779.9      5.9          df_to_add[\"county\"] = df_county[\"county\"].iloc[0]\n",
       "    30      2879    2207079.0    766.6      5.8          df_to_add[\"state\"] = df_county[\"state\"].iloc[0]\n",
       "    31      2879    1909792.0    663.4      5.0          df_to_add[\"fips\"] = fips\n",
       "    32                                                   # Aggregate\n",
       "    33      2879    5173924.0   1797.1     13.7          df_county_new = pd.concat([df_county, df_to_add])\n",
       "    34      2879    1851921.0    643.3      4.9          df_county_new.sort_values(by=\"date\", inplace=True)\n",
       "    35      8637      11835.0      1.4      0.0          for col in [\"cases\", \"deaths\"]:\n",
       "    36      5758    1920204.0    333.5      5.1              df_county_new[\"cum_{}\".format(col)].fillna(method=\"ffill\", inplace=True)\n",
       "    37      5758    1177777.0    204.5      3.1              df_county_new[\"cum_{}\".format(col)].fillna(0, inplace=True)\n",
       "    38      5758    5897852.0   1024.3     15.6              df_county_new[col] = df_county_new[\"cum_{}\".format(col)].diff().fillna(0)\n",
       "    39      2879       2846.0      1.0      0.0          frames.append(df_county_new)\n",
       "    40                                                       \n",
       "    41         1    1706997.0 1706997.0      4.5      df = pd.concat(frames, ignore_index=True)\n",
       "    42         1      74402.0  74402.0      0.2      df.sort_values(by=[\"county\", \"date\"], inplace=True)\n",
       "    43                                               \n",
       "    44         1          2.0      2.0      0.0      return df"
      ]
     },
     "metadata": {},
     "output_type": "display_data"
    }
   ],
   "source": [
    "%lprun -f get_nytimes_county_data get_nytimes_county_data()"
   ]
  },
  {
   "cell_type": "code",
   "execution_count": 16,
   "metadata": {},
   "outputs": [
    {
     "data": {
      "text/plain": [
       "numpy.ndarray"
      ]
     },
     "execution_count": 16,
     "metadata": {},
     "output_type": "execute_result"
    }
   ],
   "source": [
    "type(df[\"fips\"].unique())"
   ]
  },
  {
   "cell_type": "code",
   "execution_count": null,
   "metadata": {},
   "outputs": [],
   "source": [
    "def get_usa_state_codes(url=None, table_index=0):\n",
    "    \"\"\"\n",
    "    Returns a DataFrame of United States alpha and FIPS codes.\n",
    "    \n",
    "    Args:\n",
    "        url (str): URL to webpage.\n",
    "        table_index (int): Position of the table of interest within the page's HTML elements.\n",
    "        \n",
    "    Returns:\n",
    "        pd.DataFrame\n",
    "    \"\"\"\n",
    "    if url is None:\n",
    "        url = r\"https://www.nrcs.usda.gov/wps/portal/nrcs/detail/?cid=nrcs143_013696\"\n",
    "    tables = pd.read_html(url)\n",
    "    \n",
    "    df = tables[0][:-1].copy()\n",
    "    df.columns = [c.strip().lower().replace(\" \", \"_\") for c in df.columns]\n",
    "    df.rename(columns={\"postal_code\": \"alpha_code\"}, inplace=True)\n",
    "    df[\"fips\"] = df[\"fips\"].astype(int).astype(str).str.zfill(2)\n",
    "    \n",
    "    return df"
   ]
  },
  {
   "cell_type": "code",
   "execution_count": null,
   "metadata": {},
   "outputs": [],
   "source": [
    "def get_usa_state_population(url=None, skiprows=3, skipfooter=7, cols_to_keep=None):\n",
    "    \"\"\"\n",
    "    Returns a DataFrame of United States 2019 population estimates by state from the US Census website.\n",
    "    \n",
    "    Args:\n",
    "        url (str): Link to the US Census' Excel file.\n",
    "        skiprows (int): Rows to skip at the top of the file.\n",
    "        skipfooter (int): Rows to skip at the end of the file.\n",
    "        cols_to_keep (list): 0-indexed list of column indices to keep.\n",
    "        \n",
    "    Returns:\n",
    "        pd.DataFrame\n",
    "    \"\"\"\n",
    "    if url is None:\n",
    "        url = r\"https://www2.census.gov/programs-surveys/popest/tables/2010-2019/state/totals/nst-est2019-01.xlsx\"\n",
    "        \n",
    "    if cols_to_keep is None:\n",
    "        cols_to_keep = [0, -1]\n",
    "        \n",
    "    df = pd.read_excel(url, skiprows=skiprows, skipfooter=skipfooter)\n",
    "    df = df.iloc[:, cols_to_keep].copy()\n",
    "    df.columns = [\"state\", \"population\"]\n",
    "    df = df[df[\"state\"].str.startswith(\".\")].copy()\n",
    "    df[\"state\"] = df[\"state\"].str[1:]\n",
    "    \n",
    "    return df"
   ]
  },
  {
   "cell_type": "code",
   "execution_count": null,
   "metadata": {},
   "outputs": [],
   "source": [
    "def get_usa_county_codes(url=None, table_index=0):\n",
    "    \"\"\"\n",
    "    Returns a DataFrame of United States FIPS county codes from the NRCS website.\n",
    "    \n",
    "    Args:\n",
    "        url (str): URL to NRCS county FIPS codes page.\n",
    "        table_index (int): Position of the table of interest within the page's HTML elements.\n",
    "        \n",
    "    Returns:\n",
    "        pd.DataFrame\n",
    "    \"\"\"\n",
    "    if url is None:\n",
    "        url = r\"https://www.nrcs.usda.gov/wps/portal/nrcs/detail/national/home/?cid=nrcs143_013697\"\n",
    "    tables = pd.read_html(url)\n",
    "    \n",
    "    df = tables[0][:-1].copy()\n",
    "    df.columns = [c.strip().lower() for c in df.columns]\n",
    "    df[\"fips\"] = df[\"fips\"].astype(int).astype(str).str.zfill(5)\n",
    "    \n",
    "    return df"
   ]
  },
  {
   "cell_type": "code",
   "execution_count": null,
   "metadata": {},
   "outputs": [],
   "source": [
    "def get_usa_county_population(url=None, skiprows=3, skipfooter=6, cols_to_keep=None):\n",
    "    \"\"\"\n",
    "    TBC\n",
    "    \"\"\"\n",
    "    if url is None:\n",
    "        url = r\"https://www2.census.gov/programs-surveys/popest/tables/2010-2019/counties/totals/co-est2019-annres.xlsx\"\n",
    "        \n",
    "    if cols_to_keep is None:\n",
    "        cols_to_keep = [0, -1]\n",
    "        \n",
    "    df = pd.read_excel(url, skiprows=skiprows, skipfooter=skipfooter)\n",
    "    df = df.iloc[:, cols_to_keep].copy()\n",
    "    df.columns = [\"county\", \"population\"]\n",
    "    df = df[df[\"county\"].str.startswith(\".\")].copy()\n",
    "    df[\"county\"] = df[\"county\"].str[1:]\n",
    "    df[\"county_state\"] = df[\"county\"].str.replace(\" County, \", \" \")\n",
    "    df[\"state\"] = df[\"county_state\"].str.split(\" \").str[-1]\n",
    "    df[\"county\"] = df[\"county_state\"].str.split(\" \").str[0]\n",
    "    df = df[[\"county_state\", \"state\", \"county\", \"population\"]]\n",
    "    \n",
    "    return df"
   ]
  },
  {
   "cell_type": "code",
   "execution_count": null,
   "metadata": {},
   "outputs": [],
   "source": [
    "get_usa_county_population()"
   ]
  },
  {
   "cell_type": "code",
   "execution_count": null,
   "metadata": {},
   "outputs": [],
   "source": [
    "df_state_codes = get_usa_state_codes()\n",
    "df_county_codes = get_usa_county_codes()\n",
    "df_states = get_nytimes_state_data()\n",
    "# df_states = df_states.merge(df_state_codes[[\"fips\", \"alpha_code\"]], how=\"left\", left_on=\"fips\", right_on=\"fips\")\n",
    "df_counties = get_nytimes_county_data()"
   ]
  },
  {
   "cell_type": "code",
   "execution_count": null,
   "metadata": {},
   "outputs": [],
   "source": [
    "df_state_codes.head()"
   ]
  },
  {
   "cell_type": "code",
   "execution_count": null,
   "metadata": {},
   "outputs": [],
   "source": [
    "df_states.head()"
   ]
  },
  {
   "cell_type": "code",
   "execution_count": null,
   "metadata": {},
   "outputs": [],
   "source": [
    "df_state_codes[df_state_codes[\"fips\"] == \"01\"][\"name\"].iloc[0]"
   ]
  },
  {
   "cell_type": "code",
   "execution_count": null,
   "metadata": {},
   "outputs": [],
   "source": [
    "set(df_state_codes[\"fips\"]).difference(set(df_states[\"fips\"]))"
   ]
  },
  {
   "cell_type": "code",
   "execution_count": null,
   "metadata": {},
   "outputs": [],
   "source": [
    "geojson_url = r\"https://raw.githubusercontent.com/plotly/datasets/master/geojson-counties-fips.json\"\n",
    "res = requests.get(geojson_url)\n",
    "geojson = json.loads(res.content)"
   ]
  },
  {
   "cell_type": "code",
   "execution_count": null,
   "metadata": {},
   "outputs": [],
   "source": [
    "fig = px.choropleth(df_counties, geojson=geojson_url, locations=\"fips\", scope=\"usa\", color=np.log10(df_counties[\"cum_cases\"]), \n",
    "                    animation_frame=\"date\", range_color=[0, np.log10(df_counties[\"cum_cases\"]).max()], color_continuous_scale=px.colors.sequential.Reds, hover_name=\"county\", hover_data=[\"cum_cases\"])\n",
    "fig.update_layout(coloraxis_colorbar=dict(title=\"Cumulative cases\", thicknessmode=\"pixels\", thickness=25, lenmode=\"pixels\", len=397, yanchor=\"middle\", y=.5, ticks=\"outside\", \n",
    "                                          tickvals=list(range(math.ceil(np.log10(df_counties[\"cum_cases\"].max())))),\n",
    "                                          ticktext=[round(10 ** x, 0) for x in list(range(math.ceil(np.log10(df_counties[\"cum_cases\"].max()))))]))\n",
    "fig.show()"
   ]
  },
  {
   "cell_type": "code",
   "execution_count": null,
   "metadata": {},
   "outputs": [],
   "source": [
    "fig = px.choropleth(df_states, locations=\"alpha_code\", locationmode=\"USA-states\", scope=\"usa\", color=np.log10(df_states[\"cum_cases\"]), range_color=[0, np.log10(df_states[\"cum_cases\"]).max()], color_continuous_scale=px.colors.sequential.Reds,\n",
    "                    hover_name=\"state\", hover_data=[\"cum_cases\"], animation_frame=\"date\")\n",
    "fig.update_layout(coloraxis_colorbar=dict(title=\"Cumulative cases\", thicknessmode=\"pixels\", thickness=25, lenmode=\"pixels\", len=397, yanchor=\"middle\", y=.5, ticks=\"outside\", \n",
    "                                          tickvals=list(range(math.ceil(np.log10(df_states[\"cum_cases\"].max())))),\n",
    "                                          ticktext=[round(10 ** x, 0) for x in list(range(math.ceil(np.log10(df_states[\"cum_cases\"].max()))))]))\n",
    "fig.show()"
   ]
  },
  {
   "cell_type": "code",
   "execution_count": null,
   "metadata": {},
   "outputs": [],
   "source": [
    "state_code = \"02\"\n",
    "filtered_geojson = {\"type\": \"FeatureCollection\", \"features\": [d for d in geojson[\"features\"] if d[\"properties\"][\"STATE\"] == state_code]}\n",
    "filtered_df = df_counties[df_counties[\"fips\"].str[:2] == state_code].copy()\n",
    "\n",
    "fig = px.choropleth(filtered_df, geojson=filtered_geojson, color=\"cum_cases\", locations=\"fips\", featureidkey=\"id\", animation_frame=\"date\")\n",
    "fig.update_geos(fitbounds=\"locations\")\n",
    "pio.show(fig)"
   ]
  },
  {
   "cell_type": "code",
   "execution_count": null,
   "metadata": {},
   "outputs": [],
   "source": [
    "filtered_df = df_counties[df_counties[\"fips\"] == \"01133\"].copy()\n",
    "filtered_df"
   ]
  },
  {
   "cell_type": "code",
   "execution_count": null,
   "metadata": {},
   "outputs": [],
   "source": [
    "len(df_counties[\"fips\"].unique())"
   ]
  },
  {
   "cell_type": "code",
   "execution_count": null,
   "metadata": {},
   "outputs": [],
   "source": [
    "len(df_counties[\"county\"].unique())"
   ]
  },
  {
   "cell_type": "code",
   "execution_count": null,
   "metadata": {},
   "outputs": [],
   "source": [
    "df_counties.head()"
   ]
  },
  {
   "cell_type": "code",
   "execution_count": null,
   "metadata": {},
   "outputs": [],
   "source": [
    "df_counties[df_counties[\"fips\"].str[:2] == \"01\"].tail(50)"
   ]
  },
  {
   "cell_type": "code",
   "execution_count": null,
   "metadata": {},
   "outputs": [],
   "source": [
    "filtered_geojson[\"features\"][0]"
   ]
  },
  {
   "cell_type": "code",
   "execution_count": null,
   "metadata": {},
   "outputs": [],
   "source": [
    "geojson"
   ]
  },
  {
   "cell_type": "code",
   "execution_count": null,
   "metadata": {},
   "outputs": [],
   "source": [
    "geojson_test = px.data.election_geojson()\n",
    "geojson_test"
   ]
  },
  {
   "cell_type": "code",
   "execution_count": null,
   "metadata": {},
   "outputs": [],
   "source": []
  }
 ],
 "metadata": {
  "kernelspec": {
   "display_name": "Python 3.8.2 64-bit ('covid_viz_env': conda)",
   "language": "python",
   "name": "python38264bitcovidvizenvconda8161c9317c4541db97624dae488151e8"
  },
  "language_info": {
   "codemirror_mode": {
    "name": "ipython",
    "version": 3
   },
   "file_extension": ".py",
   "mimetype": "text/x-python",
   "name": "python",
   "nbconvert_exporter": "python",
   "pygments_lexer": "ipython3",
   "version": "3.8.2"
  }
 },
 "nbformat": 4,
 "nbformat_minor": 4
}
